{
 "cells": [
  {
   "cell_type": "code",
   "execution_count": 1,
   "metadata": {},
   "outputs": [],
   "source": [
    "%load_ext autoreload\n",
    "%autoreload 2"
   ]
  },
  {
   "cell_type": "code",
   "execution_count": 2,
   "metadata": {},
   "outputs": [],
   "source": [
    "from tqdm import tqdm_notebook as tqdm\n",
    "from transformers.optimization import AdamW, get_linear_schedule_with_warmup\n",
    "import os\n",
    "from collections import defaultdict\n",
    "\n",
    "from dataset import * \n",
    "from model import * \n",
    "import config as config"
   ]
  },
  {
   "cell_type": "markdown",
   "metadata": {},
   "source": [
    "# Hyper Param (Train)"
   ]
  },
  {
   "cell_type": "code",
   "execution_count": 3,
   "metadata": {},
   "outputs": [
    {
     "name": "stdout",
     "output_type": "stream",
     "text": [
      "cuda\n"
     ]
    }
   ],
   "source": [
    "TEST = True\n",
    "LOG = True\n",
    "\n",
    "device = 'cuda' if torch.cuda.is_available() else 'cpu'\n",
    "if TEST:\n",
    "    print(device)\n",
    "\n",
    "# (instance/batchsize)*epcho = # batch\n",
    "BATCH_SIZE = 8\n",
    "NUM_EPOCHS = 6\n",
    "LR = 0.00001 # 1e-5\n",
    "\n",
    "NUM_WARMUP = 100"
   ]
  },
  {
   "cell_type": "markdown",
   "metadata": {},
   "source": [
    "# Load Data using dataset.py"
   ]
  },
  {
   "cell_type": "code",
   "execution_count": 4,
   "metadata": {},
   "outputs": [
    {
     "data": {
      "application/vnd.jupyter.widget-view+json": {
       "model_id": "903c741e11f6448cba0e08e13a48a58f",
       "version_major": 2,
       "version_minor": 0
      },
      "text/plain": [
       "HBox(children=(FloatProgress(value=0.0, description='Downloading', max=109540.0, style=ProgressStyle(descripti…"
      ]
     },
     "metadata": {},
     "output_type": "display_data"
    },
    {
     "name": "stdout",
     "output_type": "stream",
     "text": [
      "\n"
     ]
    }
   ],
   "source": [
    "train_set = FGC_Dataset(config.FGC_TRAIN, mode=\"train\")"
   ]
  },
  {
   "cell_type": "code",
   "execution_count": 5,
   "metadata": {},
   "outputs": [],
   "source": [
    "train_loader = DataLoader(train_set, batch_size=BATCH_SIZE, collate_fn=create_mini_batch)"
   ]
  },
  {
   "cell_type": "code",
   "execution_count": 6,
   "metadata": {},
   "outputs": [
    {
     "name": "stdout",
     "output_type": "stream",
     "text": [
      "1875\n",
      "31422\n",
      "tensor([15.7584,  1.0000])\n",
      "None\n"
     ]
    }
   ],
   "source": [
    "# calc pos weight for BCE\n",
    "total = 0\n",
    "true_cnt = 0\n",
    "for instance in train_set:\n",
    "    if(instance[-1] == True):\n",
    "        true_cnt += 1\n",
    "    total += 1\n",
    "print(true_cnt)\n",
    "print(total)\n",
    "# to increase the value of recall in the model's criterion\n",
    "pos_weight = print(torch.tensor([(total-true_cnt)/true_cnt, 1]))\n",
    "print(pos_weight)\n",
    "# no need to applied pos_weight = torch.tensor([total/true_cnt, total/(1-true_cnt)])?"
   ]
  },
  {
   "cell_type": "markdown",
   "metadata": {},
   "source": [
    "# Build and Train Model"
   ]
  },
  {
   "cell_type": "code",
   "execution_count": 7,
   "metadata": {},
   "outputs": [
    {
     "data": {
      "application/vnd.jupyter.widget-view+json": {
       "model_id": "40b86cc1791649afad26199d2fb1828e",
       "version_major": 2,
       "version_minor": 0
      },
      "text/plain": [
       "HBox(children=(FloatProgress(value=0.0, description='Downloading', max=624.0, style=ProgressStyle(description_…"
      ]
     },
     "metadata": {},
     "output_type": "display_data"
    },
    {
     "name": "stdout",
     "output_type": "stream",
     "text": [
      "\n"
     ]
    },
    {
     "data": {
      "application/vnd.jupyter.widget-view+json": {
       "model_id": "840a4b2114fd4ff8aa28831b76609b5f",
       "version_major": 2,
       "version_minor": 0
      },
      "text/plain": [
       "HBox(children=(FloatProgress(value=0.0, description='Downloading', max=411577189.0, style=ProgressStyle(descri…"
      ]
     },
     "metadata": {},
     "output_type": "display_data"
    },
    {
     "name": "stdout",
     "output_type": "stream",
     "text": [
      "\n"
     ]
    }
   ],
   "source": [
    "bert_encoder = BertModel.from_pretrained(config.BERT_EMBEDDING)"
   ]
  },
  {
   "cell_type": "code",
   "execution_count": 8,
   "metadata": {},
   "outputs": [],
   "source": [
    "def calc_f1(pref, target):\n",
    "    TP += ((pred == 1) & (target == 1)).cpu().sum()\n",
    "    TN += ((pred == 0) & (target == 0)).cpu().sum()\n",
    "    FN += ((pred == 0) & (target == 1)).cpu().sum()\n",
    "    FP += ((pred == 1) & (target == 0)).cpu().sum()\n",
    "\n",
    "    precision = TP / (TP + FP)\n",
    "    recall = TP / (TP + FN)\n",
    "    F1 = 2 * recall * precision / (recall + precision)\n",
    "    acc = (TP + TN) / (TP + TN + FP + FN)\n",
    "    return precision, recall, F1, acc"
   ]
  },
  {
   "cell_type": "code",
   "execution_count": 9,
   "metadata": {},
   "outputs": [
    {
     "name": "stdout",
     "output_type": "stream",
     "text": [
      "model in cuda? True\n"
     ]
    }
   ],
   "source": [
    "model = BertSERModel(bert_encoder=bert_encoder, pos_weight=pos_weight)\n",
    "model.to(device) # means model = model.to(device)\n",
    "if LOG:\n",
    "    print(\"model in cuda?\", next(model.parameters()).is_cuda)\n",
    "#    from time import sleep\n",
    "#    sleep(0.25)"
   ]
  },
  {
   "cell_type": "code",
   "execution_count": 10,
   "metadata": {},
   "outputs": [],
   "source": [
    "dev_set = FGC_Dataset(config.FGC_DEV)\n",
    "dev_loader = DataLoader(dev_set, batch_size=BATCH_SIZE, collate_fn=create_mini_batch)\n",
    "id2qid = dev_set.get_id2qid()"
   ]
  },
  {
   "cell_type": "code",
   "execution_count": 11,
   "metadata": {},
   "outputs": [],
   "source": [
    "def eval_model(model, dev_set, id2qid):\n",
    "    dev_loader = DataLoader(dev_set, batch_size=BATCH_SIZE, collate_fn=create_mini_batch)\n",
    "    pred = []\n",
    "    label = []\n",
    "    for batch_i, batch in enumerate(dev_loader):\n",
    "        #print(len(batch))\n",
    "        label.extend(batch[3].cpu()) # batch[3] is label\n",
    "        batch = [data.to(device) for data in batch]\n",
    "        pred_batch = model._predict(batch)\n",
    "        pred.extend(pred_batch)\n",
    "    #print(label)\n",
    "    #print(pred)\n",
    "    stat = defaultdict(list)\n",
    "    for idx in range(len(dev_set)):\n",
    "        qid = id2qid[idx]\n",
    "        state = label[idx].item()*2 + pred[idx]\n",
    "        stat[qid].append(state)\n",
    "        \n",
    "    stat2 = list()\n",
    "    sum_stat =  {\n",
    "            \"precision\" : 0.0,\n",
    "            \"recall\" : 0.0,\n",
    "            \"F1\" : 0.0,\n",
    "            \"accuracy\" : 0.0\n",
    "        }\n",
    "    \n",
    "    for k, v in stat.items():\n",
    "        TP = sum([1 if ins == 3 else 0 for ins in v])\n",
    "        TN = sum([1 if ins == 0 else 0 for ins in v])\n",
    "        FN = sum([1 if ins == 2 else 0 for ins in v])\n",
    "        FP = sum([1 if ins == 1 else 0 for ins in v])\n",
    "        \n",
    "        # print(TP, TN, FN, FP)\n",
    "        \n",
    "        precision = TP / (TP + FP) if TP+FP > 0 else 0.0\n",
    "        recall = TP / (TP + FN) if TP+FN > 0 else 0.0\n",
    "        f1 = 2 * recall * precision / (recall + precision) if  (recall + precision) > 0 else 0.0\n",
    "        acc = (TP + TN) / (TP + TN + FP + FN) if (TP + TN + FP + FN) > 0 else 0.0\n",
    "\n",
    "        cur = {\n",
    "            \"precision\" : precision,\n",
    "            \"recall\" : recall,\n",
    "            \"F1\" : f1,\n",
    "            \"accuracy\" : acc\n",
    "        }\n",
    "        stat2.append(cur)\n",
    "        for k in cur:\n",
    "            sum_stat[k] += cur[k]\n",
    "    \n",
    "    # each question weight the sum\n",
    "    # remain to do is get max if SE is all negetive\n",
    "    for k in sum_stat:\n",
    "        sum_stat[k] /= len(stat2)\n",
    "    \n",
    "    return stat2, sum_stat"
   ]
  },
  {
   "cell_type": "code",
   "execution_count": 12,
   "metadata": {},
   "outputs": [],
   "source": [
    "stat, avg_stat = eval_model(model, dev_set, id2qid)"
   ]
  },
  {
   "cell_type": "code",
   "execution_count": 13,
   "metadata": {},
   "outputs": [],
   "source": [
    "# saving directory\n",
    "model_file_path = \"baseline\"\n",
    "\n",
    "save_model_path = config.PARAM_PATH / model_file_path\n",
    "\n",
    "if not os.path.exists(save_model_path):\n",
    "    if LOG:\n",
    "        print(\"directory {} doesn't exist, creating...\".format(save_model_path))\n",
    "    os.mkdir(save_model_path)"
   ]
  },
  {
   "cell_type": "code",
   "execution_count": 14,
   "metadata": {},
   "outputs": [],
   "source": [
    "no_decay = ['bias', 'LayerNorm.bias', 'LayerNorm.weight']\n",
    "optimizer_grouped_parameters = [\n",
    "    {'params': [p for n, p in model.named_parameters() if not any(nd in n for nd in no_decay)], 'weight_decay': 0.01},\n",
    "    {'params': [p for n, p in model.named_parameters() if any(nd in n for nd in no_decay)], 'weight_decay': 0.0}\n",
    "]"
   ]
  },
  {
   "cell_type": "code",
   "execution_count": 15,
   "metadata": {},
   "outputs": [],
   "source": [
    "if train_set == None:\n",
    "    train_set = FGC_Dataset(config.FGC_TRAIN, mode=\"train\")\n",
    "# train_set[0][0]\n",
    "train_loader = DataLoader(train_set, batch_size=BATCH_SIZE, collate_fn=create_mini_batch)"
   ]
  },
  {
   "cell_type": "code",
   "execution_count": 16,
   "metadata": {},
   "outputs": [],
   "source": [
    "# optimizer\n",
    "optimizer = AdamW(optimizer_grouped_parameters, lr=LR)\n",
    "num_train_optimization_steps = len(train_loader) * NUM_EPOCHS\n",
    "scheduler = get_linear_schedule_with_warmup(optimizer,\n",
    "                                            num_warmup_steps=NUM_WARMUP,\n",
    "                                            num_training_steps=num_train_optimization_steps)"
   ]
  },
  {
   "cell_type": "code",
   "execution_count": 17,
   "metadata": {},
   "outputs": [],
   "source": [
    "# Check that input does not exist MAX_BERT_LEN\n",
    "for data in train_set:\n",
    "    # print(data[0])\n",
    "    assert(data[1].shape[0] <= config.BERT_MAX_INPUT_LEN)"
   ]
  },
  {
   "cell_type": "code",
   "execution_count": 87,
   "metadata": {},
   "outputs": [],
   "source": [
    "# model.__dict__"
   ]
  },
  {
   "cell_type": "code",
   "execution_count": 18,
   "metadata": {},
   "outputs": [
    {
     "name": "stdout",
     "output_type": "stream",
     "text": [
      "model in cuda? True\n",
      "start training ... \n"
     ]
    },
    {
     "name": "stderr",
     "output_type": "stream",
     "text": [
      "/opt/conda/lib/python3.7/site-packages/ipykernel_launcher.py:20: TqdmDeprecationWarning: This function will be removed in tqdm==5.0.0\n",
      "Please use `tqdm.notebook.tqdm` instead of `tqdm.tqdm_notebook`\n"
     ]
    },
    {
     "data": {
      "application/vnd.jupyter.widget-view+json": {
       "model_id": "8f78d56b026f4b90ae6e1a756129a2a2",
       "version_major": 2,
       "version_minor": 0
      },
      "text/plain": [
       "HBox(children=(FloatProgress(value=0.0, max=3928.0), HTML(value='')))"
      ]
     },
     "metadata": {},
     "output_type": "display_data"
    },
    {
     "name": "stdout",
     "output_type": "stream",
     "text": [
      "\n"
     ]
    },
    {
     "ename": "RuntimeError",
     "evalue": "CUDA out of memory. Tried to allocate 48.00 MiB (GPU 0; 10.76 GiB total capacity; 7.54 GiB already allocated; 25.69 MiB free; 7.94 GiB reserved in total by PyTorch) (malloc at /opt/conda/conda-bld/pytorch_1591914880026/work/c10/cuda/CUDACachingAllocator.cpp:289)\nframe #0: c10::Error::Error(c10::SourceLocation, std::string const&) + 0x4e (0x7f1e00291b5e in /opt/conda/lib/python3.7/site-packages/torch/lib/libc10.so)\nframe #1: <unknown function> + 0x1f39d (0x7f1e004dd39d in /opt/conda/lib/python3.7/site-packages/torch/lib/libc10_cuda.so)\nframe #2: <unknown function> + 0x2058e (0x7f1e004de58e in /opt/conda/lib/python3.7/site-packages/torch/lib/libc10_cuda.so)\nframe #3: THCStorage_resize + 0x96 (0x7f1db91a6046 in /opt/conda/lib/python3.7/site-packages/torch/lib/libtorch_cuda.so)\nframe #4: at::native::(anonymous namespace)::resize_cuda_(at::Tensor&, c10::ArrayRef<long>, c10::optional<c10::MemoryFormat>) + 0x799 (0x7f1dbacd9379 in /opt/conda/lib/python3.7/site-packages/torch/lib/libtorch_cuda.so)\nframe #5: <unknown function> + 0x2a02d53 (0x7f1dbacd9d53 in /opt/conda/lib/python3.7/site-packages/torch/lib/libtorch_cuda.so)\nframe #6: <unknown function> + 0xd7bc52 (0x7f1db9052c52 in /opt/conda/lib/python3.7/site-packages/torch/lib/libtorch_cuda.so)\nframe #7: <unknown function> + 0xead856 (0x7f1db9184856 in /opt/conda/lib/python3.7/site-packages/torch/lib/libtorch_cuda.so)\nframe #8: <unknown function> + 0xdd0c88 (0x7f1db90a7c88 in /opt/conda/lib/python3.7/site-packages/torch/lib/libtorch_cuda.so)\nframe #9: <unknown function> + 0xe20e70 (0x7f1de02ade70 in /opt/conda/lib/python3.7/site-packages/torch/lib/libtorch_cpu.so)\nframe #10: <unknown function> + 0x29f9b6e (0x7f1de1e86b6e in /opt/conda/lib/python3.7/site-packages/torch/lib/libtorch_cpu.so)\nframe #11: <unknown function> + 0xe20e70 (0x7f1de02ade70 in /opt/conda/lib/python3.7/site-packages/torch/lib/libtorch_cpu.so)\nframe #12: at::Tensor c10::Dispatcher::callUnboxed<at::Tensor, at::Tensor const&, at::Tensor const&>(c10::OperatorHandle const&, at::Tensor const&, at::Tensor const&) const + 0xb3 (0x7f1de4de85b3 in /opt/conda/lib/python3.7/site-packages/torch/lib/libtorch_python.so)\nframe #13: <unknown function> + 0x260aa17 (0x7f1de1a97a17 in /opt/conda/lib/python3.7/site-packages/torch/lib/libtorch_cpu.so)\nframe #14: torch::autograd::generated::MmBackward::apply(std::vector<at::Tensor, std::allocator<at::Tensor> >&&) + 0x1c4 (0x7f1de1ad30c4 in /opt/conda/lib/python3.7/site-packages/torch/lib/libtorch_cpu.so)\nframe #15: <unknown function> + 0x2ae7df5 (0x7f1de1f74df5 in /opt/conda/lib/python3.7/site-packages/torch/lib/libtorch_cpu.so)\nframe #16: torch::autograd::Engine::evaluate_function(std::shared_ptr<torch::autograd::GraphTask>&, torch::autograd::Node*, torch::autograd::InputBuffer&) + 0x16f3 (0x7f1de1f720f3 in /opt/conda/lib/python3.7/site-packages/torch/lib/libtorch_cpu.so)\nframe #17: torch::autograd::Engine::thread_main(std::shared_ptr<torch::autograd::GraphTask> const&, bool) + 0x3d2 (0x7f1de1f72ed2 in /opt/conda/lib/python3.7/site-packages/torch/lib/libtorch_cpu.so)\nframe #18: torch::autograd::Engine::thread_init(int) + 0x39 (0x7f1de1f6b549 in /opt/conda/lib/python3.7/site-packages/torch/lib/libtorch_cpu.so)\nframe #19: torch::autograd::python::PythonEngine::thread_init(int) + 0x38 (0x7f1de50b1638 in /opt/conda/lib/python3.7/site-packages/torch/lib/libtorch_python.so)\nframe #20: <unknown function> + 0xc819d (0x7f1e1d81019d in /opt/conda/bin/../lib/libstdc++.so.6)\nframe #21: <unknown function> + 0x76db (0x7f1e20cf46db in /lib/x86_64-linux-gnu/libpthread.so.0)\nframe #22: clone + 0x3f (0x7f1e20a1da3f in /lib/x86_64-linux-gnu/libc.so.6)\n",
     "output_type": "error",
     "traceback": [
      "\u001b[0;31m---------------------------------------------------------------------------\u001b[0m",
      "\u001b[0;31mRuntimeError\u001b[0m                              Traceback (most recent call last)",
      "\u001b[0;32m<ipython-input-18-1e41db0556b7>\u001b[0m in \u001b[0;36m<module>\u001b[0;34m\u001b[0m\n\u001b[1;32m     24\u001b[0m         \u001b[0mloss\u001b[0m \u001b[0;34m=\u001b[0m \u001b[0mmodel\u001b[0m\u001b[0;34m(\u001b[0m\u001b[0mbatch\u001b[0m\u001b[0;34m)\u001b[0m\u001b[0;34m\u001b[0m\u001b[0;34m\u001b[0m\u001b[0m\n\u001b[1;32m     25\u001b[0m \u001b[0;34m\u001b[0m\u001b[0m\n\u001b[0;32m---> 26\u001b[0;31m         \u001b[0mloss\u001b[0m\u001b[0;34m.\u001b[0m\u001b[0mbackward\u001b[0m\u001b[0;34m(\u001b[0m\u001b[0;34m)\u001b[0m\u001b[0;34m\u001b[0m\u001b[0;34m\u001b[0m\u001b[0m\n\u001b[0m\u001b[1;32m     27\u001b[0m         \u001b[0mtorch\u001b[0m\u001b[0;34m.\u001b[0m\u001b[0mnn\u001b[0m\u001b[0;34m.\u001b[0m\u001b[0mutils\u001b[0m\u001b[0;34m.\u001b[0m\u001b[0mclip_grad_norm_\u001b[0m\u001b[0;34m(\u001b[0m\u001b[0mmodel\u001b[0m\u001b[0;34m.\u001b[0m\u001b[0mparameters\u001b[0m\u001b[0;34m(\u001b[0m\u001b[0;34m)\u001b[0m\u001b[0;34m,\u001b[0m \u001b[0mconfig\u001b[0m\u001b[0;34m.\u001b[0m\u001b[0mMAX_GRAD_NORM\u001b[0m\u001b[0;34m)\u001b[0m\u001b[0;34m\u001b[0m\u001b[0;34m\u001b[0m\u001b[0m\n\u001b[1;32m     28\u001b[0m         \u001b[0moptimizer\u001b[0m\u001b[0;34m.\u001b[0m\u001b[0mstep\u001b[0m\u001b[0;34m(\u001b[0m\u001b[0;34m)\u001b[0m\u001b[0;34m\u001b[0m\u001b[0;34m\u001b[0m\u001b[0m\n",
      "\u001b[0;32m/opt/conda/lib/python3.7/site-packages/torch/tensor.py\u001b[0m in \u001b[0;36mbackward\u001b[0;34m(self, gradient, retain_graph, create_graph)\u001b[0m\n\u001b[1;32m    196\u001b[0m                 \u001b[0mproducts\u001b[0m\u001b[0;34m.\u001b[0m \u001b[0mDefaults\u001b[0m \u001b[0mto\u001b[0m\u001b[0;31m \u001b[0m\u001b[0;31m`\u001b[0m\u001b[0;31m`\u001b[0m\u001b[0;32mFalse\u001b[0m\u001b[0;31m`\u001b[0m\u001b[0;31m`\u001b[0m\u001b[0;34m.\u001b[0m\u001b[0;34m\u001b[0m\u001b[0;34m\u001b[0m\u001b[0m\n\u001b[1;32m    197\u001b[0m         \"\"\"\n\u001b[0;32m--> 198\u001b[0;31m         \u001b[0mtorch\u001b[0m\u001b[0;34m.\u001b[0m\u001b[0mautograd\u001b[0m\u001b[0;34m.\u001b[0m\u001b[0mbackward\u001b[0m\u001b[0;34m(\u001b[0m\u001b[0mself\u001b[0m\u001b[0;34m,\u001b[0m \u001b[0mgradient\u001b[0m\u001b[0;34m,\u001b[0m \u001b[0mretain_graph\u001b[0m\u001b[0;34m,\u001b[0m \u001b[0mcreate_graph\u001b[0m\u001b[0;34m)\u001b[0m\u001b[0;34m\u001b[0m\u001b[0;34m\u001b[0m\u001b[0m\n\u001b[0m\u001b[1;32m    199\u001b[0m \u001b[0;34m\u001b[0m\u001b[0m\n\u001b[1;32m    200\u001b[0m     \u001b[0;32mdef\u001b[0m \u001b[0mregister_hook\u001b[0m\u001b[0;34m(\u001b[0m\u001b[0mself\u001b[0m\u001b[0;34m,\u001b[0m \u001b[0mhook\u001b[0m\u001b[0;34m)\u001b[0m\u001b[0;34m:\u001b[0m\u001b[0;34m\u001b[0m\u001b[0;34m\u001b[0m\u001b[0m\n",
      "\u001b[0;32m/opt/conda/lib/python3.7/site-packages/torch/autograd/__init__.py\u001b[0m in \u001b[0;36mbackward\u001b[0;34m(tensors, grad_tensors, retain_graph, create_graph, grad_variables)\u001b[0m\n\u001b[1;32m     98\u001b[0m     Variable._execution_engine.run_backward(\n\u001b[1;32m     99\u001b[0m         \u001b[0mtensors\u001b[0m\u001b[0;34m,\u001b[0m \u001b[0mgrad_tensors\u001b[0m\u001b[0;34m,\u001b[0m \u001b[0mretain_graph\u001b[0m\u001b[0;34m,\u001b[0m \u001b[0mcreate_graph\u001b[0m\u001b[0;34m,\u001b[0m\u001b[0;34m\u001b[0m\u001b[0;34m\u001b[0m\u001b[0m\n\u001b[0;32m--> 100\u001b[0;31m         allow_unreachable=True)  # allow_unreachable flag\n\u001b[0m\u001b[1;32m    101\u001b[0m \u001b[0;34m\u001b[0m\u001b[0m\n\u001b[1;32m    102\u001b[0m \u001b[0;34m\u001b[0m\u001b[0m\n",
      "\u001b[0;31mRuntimeError\u001b[0m: CUDA out of memory. Tried to allocate 48.00 MiB (GPU 0; 10.76 GiB total capacity; 7.54 GiB already allocated; 25.69 MiB free; 7.94 GiB reserved in total by PyTorch) (malloc at /opt/conda/conda-bld/pytorch_1591914880026/work/c10/cuda/CUDACachingAllocator.cpp:289)\nframe #0: c10::Error::Error(c10::SourceLocation, std::string const&) + 0x4e (0x7f1e00291b5e in /opt/conda/lib/python3.7/site-packages/torch/lib/libc10.so)\nframe #1: <unknown function> + 0x1f39d (0x7f1e004dd39d in /opt/conda/lib/python3.7/site-packages/torch/lib/libc10_cuda.so)\nframe #2: <unknown function> + 0x2058e (0x7f1e004de58e in /opt/conda/lib/python3.7/site-packages/torch/lib/libc10_cuda.so)\nframe #3: THCStorage_resize + 0x96 (0x7f1db91a6046 in /opt/conda/lib/python3.7/site-packages/torch/lib/libtorch_cuda.so)\nframe #4: at::native::(anonymous namespace)::resize_cuda_(at::Tensor&, c10::ArrayRef<long>, c10::optional<c10::MemoryFormat>) + 0x799 (0x7f1dbacd9379 in /opt/conda/lib/python3.7/site-packages/torch/lib/libtorch_cuda.so)\nframe #5: <unknown function> + 0x2a02d53 (0x7f1dbacd9d53 in /opt/conda/lib/python3.7/site-packages/torch/lib/libtorch_cuda.so)\nframe #6: <unknown function> + 0xd7bc52 (0x7f1db9052c52 in /opt/conda/lib/python3.7/site-packages/torch/lib/libtorch_cuda.so)\nframe #7: <unknown function> + 0xead856 (0x7f1db9184856 in /opt/conda/lib/python3.7/site-packages/torch/lib/libtorch_cuda.so)\nframe #8: <unknown function> + 0xdd0c88 (0x7f1db90a7c88 in /opt/conda/lib/python3.7/site-packages/torch/lib/libtorch_cuda.so)\nframe #9: <unknown function> + 0xe20e70 (0x7f1de02ade70 in /opt/conda/lib/python3.7/site-packages/torch/lib/libtorch_cpu.so)\nframe #10: <unknown function> + 0x29f9b6e (0x7f1de1e86b6e in /opt/conda/lib/python3.7/site-packages/torch/lib/libtorch_cpu.so)\nframe #11: <unknown function> + 0xe20e70 (0x7f1de02ade70 in /opt/conda/lib/python3.7/site-packages/torch/lib/libtorch_cpu.so)\nframe #12: at::Tensor c10::Dispatcher::callUnboxed<at::Tensor, at::Tensor const&, at::Tensor const&>(c10::OperatorHandle const&, at::Tensor const&, at::Tensor const&) const + 0xb3 (0x7f1de4de85b3 in /opt/conda/lib/python3.7/site-packages/torch/lib/libtorch_python.so)\nframe #13: <unknown function> + 0x260aa17 (0x7f1de1a97a17 in /opt/conda/lib/python3.7/site-packages/torch/lib/libtorch_cpu.so)\nframe #14: torch::autograd::generated::MmBackward::apply(std::vector<at::Tensor, std::allocator<at::Tensor> >&&) + 0x1c4 (0x7f1de1ad30c4 in /opt/conda/lib/python3.7/site-packages/torch/lib/libtorch_cpu.so)\nframe #15: <unknown function> + 0x2ae7df5 (0x7f1de1f74df5 in /opt/conda/lib/python3.7/site-packages/torch/lib/libtorch_cpu.so)\nframe #16: torch::autograd::Engine::evaluate_function(std::shared_ptr<torch::autograd::GraphTask>&, torch::autograd::Node*, torch::autograd::InputBuffer&) + 0x16f3 (0x7f1de1f720f3 in /opt/conda/lib/python3.7/site-packages/torch/lib/libtorch_cpu.so)\nframe #17: torch::autograd::Engine::thread_main(std::shared_ptr<torch::autograd::GraphTask> const&, bool) + 0x3d2 (0x7f1de1f72ed2 in /opt/conda/lib/python3.7/site-packages/torch/lib/libtorch_cpu.so)\nframe #18: torch::autograd::Engine::thread_init(int) + 0x39 (0x7f1de1f6b549 in /opt/conda/lib/python3.7/site-packages/torch/lib/libtorch_cpu.so)\nframe #19: torch::autograd::python::PythonEngine::thread_init(int) + 0x38 (0x7f1de50b1638 in /opt/conda/lib/python3.7/site-packages/torch/lib/libtorch_python.so)\nframe #20: <unknown function> + 0xc819d (0x7f1e1d81019d in /opt/conda/bin/../lib/libstdc++.so.6)\nframe #21: <unknown function> + 0x76db (0x7f1e20cf46db in /lib/x86_64-linux-gnu/libpthread.so.0)\nframe #22: clone + 0x3f (0x7f1e20a1da3f in /lib/x86_64-linux-gnu/libc.so.6)\n"
     ]
    }
   ],
   "source": [
    "model = BertSERModel(bert_encoder=bert_encoder, pos_weight=pos_weight)\n",
    "model.to(device) # means model = model.to(device)\n",
    "if LOG:\n",
    "    print(\"model in cuda?\", next(model.parameters()).is_cuda)\n",
    "#    from time import sleep\n",
    "#    sleep(0.25)\n",
    "\n",
    "print('start training ... ')\n",
    "\n",
    "stat = {\n",
    "    \"precision\" : [],\n",
    "    \"recall\" : [],\n",
    "    \"F1\" :[],\n",
    "    \"accuracy\" : []\n",
    "}\n",
    "\n",
    "for epoch_i in range(NUM_EPOCHS):\n",
    "    model.train()\n",
    "    running_loss = 0.0\n",
    "    for batch_i, batch in enumerate(tqdm(train_loader)):\n",
    "        optimizer.zero_grad()\n",
    "\n",
    "        batch = [data.to(device) for data in batch] # batch[0] = ids, batch[1] = ...\n",
    "        loss = model(batch)\n",
    "\n",
    "        loss.backward()\n",
    "        torch.nn.utils.clip_grad_norm_(model.parameters(), config.MAX_GRAD_NORM) \n",
    "        optimizer.step()\n",
    "        scheduler.step()\n",
    "        running_loss += loss.item()\n",
    "    learning_rate_scalar = scheduler.get_lr()[0]\n",
    "    print('lr = %f' % learning_rate_scalar)\n",
    "    print('epoch %d train_loss: %.3f' % (epoch_i, running_loss / len(train_loader)))\n",
    "    \n",
    "    eval_epoch_frequency = 1\n",
    "    if epoch_i % eval_epoch_frequency == 0:\n",
    "        ecopch_stat_by_questions, epoch_stat = eval_model(model, dev_set, id2qid)\n",
    "        for k in stat:\n",
    "            stat[k].append(epoch_stat[k])\n",
    "        print('epoch %d eval_recall: %.3f eval_f1: %.3f' % \n",
    "              (epoch_i, epoch_stat['recall'], epoch_stat['F1']))\n",
    "        model_to_save = model\n",
    "        torch.save(model_to_save.state_dict(),\n",
    "                    str(save_model_path / \"model_epoch{0}_precision:{1:.3f}_recall:{2:.3f}_f1:{3:.3f}_acc:{4:.3f}.m\".\n",
    "                           format(epoch_i, epoch_stat['precision'], epoch_stat['recall'], epoch_stat['F1'],\n",
    "                                  epoch_stat['accuracy'])))\n"
   ]
  },
  {
   "cell_type": "code",
   "execution_count": null,
   "metadata": {},
   "outputs": [],
   "source": [
    "# save model here"
   ]
  },
  {
   "cell_type": "code",
   "execution_count": null,
   "metadata": {},
   "outputs": [],
   "source": [
    "print(\"hi\")"
   ]
  },
  {
   "cell_type": "code",
   "execution_count": null,
   "metadata": {},
   "outputs": [],
   "source": [
    "eval_epoch_frequency = 1\n",
    "if epoch_i % eval_epoch_frequency == 0:\n",
    "    ecopch_stat_by_questions, epoch_stat = eval_model(model, dev_set, id2qid)\n",
    "    for k in stat:\n",
    "        stat[k].append(epoch_stat[k])\n",
    "    print('epoch %d eval_recall: %.3f eval_f1: %.3f' % \n",
    "          (epoch_i, epoch_stat['recall'], epoch_stat['F1']))\n",
    "    model_to_save = model\n",
    "    torch.save(model_to_save.state_dict(),\n",
    "                str(save_model_path / \"model_epoch{0}_precision:{1:.3f}_recall:{2:.3f}_f1:{3:.3f}_acc:{4:.3f}.m\".\n",
    "                       format(epoch_i, epoch_stat['precision'], epoch_stat['recall'], epoch_stat['F1'],\n",
    "                              epoch_stat['accuracy'])))"
   ]
  },
  {
   "cell_type": "code",
   "execution_count": null,
   "metadata": {},
   "outputs": [],
   "source": []
  },
  {
   "cell_type": "code",
   "execution_count": null,
   "metadata": {},
   "outputs": [],
   "source": []
  }
 ],
 "metadata": {
  "kernelspec": {
   "display_name": "Python 3",
   "language": "python",
   "name": "python3"
  },
  "language_info": {
   "codemirror_mode": {
    "name": "ipython",
    "version": 3
   },
   "file_extension": ".py",
   "mimetype": "text/x-python",
   "name": "python",
   "nbconvert_exporter": "python",
   "pygments_lexer": "ipython3",
   "version": "3.7.7"
  }
 },
 "nbformat": 4,
 "nbformat_minor": 4
}
