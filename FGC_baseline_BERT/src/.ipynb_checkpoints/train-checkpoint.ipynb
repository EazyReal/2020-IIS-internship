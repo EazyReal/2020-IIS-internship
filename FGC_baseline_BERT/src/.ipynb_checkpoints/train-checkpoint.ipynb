{
 "cells": [
  {
   "cell_type": "code",
   "execution_count": 1,
   "metadata": {},
   "outputs": [],
   "source": [
    "%load_ext autoreload\n",
    "%autoreload 2"
   ]
  },
  {
   "cell_type": "code",
   "execution_count": 2,
   "metadata": {},
   "outputs": [
    {
     "name": "stderr",
     "output_type": "stream",
     "text": [
      "I0708 03:12:39.427759 140679277590336 file_utils.py:39] PyTorch version 1.5.1+cu101 available.\n",
      "I0708 03:12:41.333017 140679277590336 tokenization_utils_base.py:1254] loading file https://s3.amazonaws.com/models.huggingface.co/bert/bert-base-chinese-vocab.txt from cache at /root/.cache/torch/transformers/8a0c070123c1f794c42a29c6904beb7c1b8715741e235bee04aca2c7636fc83f.9b42061518a39ca00b8b52059fd2bede8daa613f8a8671500e518a8c29de8c00\n"
     ]
    }
   ],
   "source": [
    "from tqdm import tqdm_notebook as tqdm\n",
    "from transformers.optimization import AdamW, get_linear_schedule_with_warmup\n",
    "import os\n",
    "from collections import defaultdict\n",
    "\n",
    "from dataset import * \n",
    "from model import * \n",
    "import config as config"
   ]
  },
  {
   "cell_type": "markdown",
   "metadata": {},
   "source": [
    "# Hyper Param (Train)"
   ]
  },
  {
   "cell_type": "code",
   "execution_count": 3,
   "metadata": {},
   "outputs": [
    {
     "name": "stdout",
     "output_type": "stream",
     "text": [
      "cuda\n"
     ]
    }
   ],
   "source": [
    "TEST = True\n",
    "LOG = True\n",
    "\n",
    "device = 'cuda' if torch.cuda.is_available() else 'cpu'\n",
    "if TEST:\n",
    "    print(device)\n",
    "\n",
    "# (instance/batchsize)*epcho = # batch\n",
    "BATCH_SIZE = 8\n",
    "NUM_EPOCHS = 6\n",
    "LR = 0.00001 # 1e-5\n",
    "\n",
    "NUM_WARMUP = 100"
   ]
  },
  {
   "cell_type": "markdown",
   "metadata": {},
   "source": [
    "# Load Data using dataset.py"
   ]
  },
  {
   "cell_type": "code",
   "execution_count": 4,
   "metadata": {},
   "outputs": [],
   "source": [
    "train_set = FGC_Dataset(config.FGC_TRAIN, mode=\"train\")"
   ]
  },
  {
   "cell_type": "code",
   "execution_count": 5,
   "metadata": {},
   "outputs": [],
   "source": [
    "train_loader = DataLoader(train_set, batch_size=BATCH_SIZE, collate_fn=create_mini_batch)"
   ]
  },
  {
   "cell_type": "code",
   "execution_count": 6,
   "metadata": {},
   "outputs": [
    {
     "name": "stdout",
     "output_type": "stream",
     "text": [
      "1875\n",
      "31422\n",
      "tensor([15.7584,  1.0000])\n",
      "None\n"
     ]
    }
   ],
   "source": [
    "# calc pos weight for BCE\n",
    "total = 0\n",
    "true_cnt = 0\n",
    "for instance in train_set:\n",
    "    if(instance[-1] == True):\n",
    "        true_cnt += 1\n",
    "    total += 1\n",
    "print(true_cnt)\n",
    "print(total)\n",
    "# to increase the value of recall in the model's criterion\n",
    "pos_weight = print(torch.tensor([(total-true_cnt)/true_cnt, 1]))\n",
    "print(pos_weight)\n",
    "# no need to applied pos_weight = torch.tensor([total/true_cnt, total/(1-true_cnt)])?"
   ]
  },
  {
   "cell_type": "markdown",
   "metadata": {},
   "source": [
    "# Build and Train Model"
   ]
  },
  {
   "cell_type": "code",
   "execution_count": 7,
   "metadata": {},
   "outputs": [
    {
     "name": "stderr",
     "output_type": "stream",
     "text": [
      "I0708 03:12:56.016345 140679277590336 configuration_utils.py:264] loading configuration file https://s3.amazonaws.com/models.huggingface.co/bert/bert-base-chinese-config.json from cache at /root/.cache/torch/transformers/8a3b1cfe5da58286e12a0f5d7d182b8d6eca88c08e26c332ee3817548cf7e60a.f12a4f986e43d8b328f5b067a641064d67b91597567a06c7b122d1ca7dfd9741\n",
      "I0708 03:12:56.018933 140679277590336 configuration_utils.py:300] Model config BertConfig {\n",
      "  \"architectures\": [\n",
      "    \"BertForMaskedLM\"\n",
      "  ],\n",
      "  \"attention_probs_dropout_prob\": 0.1,\n",
      "  \"directionality\": \"bidi\",\n",
      "  \"gradient_checkpointing\": false,\n",
      "  \"hidden_act\": \"gelu\",\n",
      "  \"hidden_dropout_prob\": 0.1,\n",
      "  \"hidden_size\": 768,\n",
      "  \"initializer_range\": 0.02,\n",
      "  \"intermediate_size\": 3072,\n",
      "  \"layer_norm_eps\": 1e-12,\n",
      "  \"max_position_embeddings\": 512,\n",
      "  \"model_type\": \"bert\",\n",
      "  \"num_attention_heads\": 12,\n",
      "  \"num_hidden_layers\": 12,\n",
      "  \"pad_token_id\": 0,\n",
      "  \"pooler_fc_size\": 768,\n",
      "  \"pooler_num_attention_heads\": 12,\n",
      "  \"pooler_num_fc_layers\": 3,\n",
      "  \"pooler_size_per_head\": 128,\n",
      "  \"pooler_type\": \"first_token_transform\",\n",
      "  \"type_vocab_size\": 2,\n",
      "  \"vocab_size\": 21128\n",
      "}\n",
      "\n",
      "I0708 03:12:56.093951 140679277590336 modeling_utils.py:667] loading weights file https://cdn.huggingface.co/bert-base-chinese-pytorch_model.bin from cache at /root/.cache/torch/transformers/a75f2e45a9463e784dfe8c1d9672440d5fc1b091d5ab104e3c2d82e90ab1b222.929717ca66a3ba9eb9ec2f85973c6398c54c38a4faa464636a491d7a705f7eb6\n",
      "I0708 03:12:58.554845 140679277590336 modeling_utils.py:765] All model checkpoint weights were used when initializing BertModel.\n",
      "\n",
      "I0708 03:12:58.557297 140679277590336 modeling_utils.py:774] All the weights of BertModel were initialized from the model checkpoint at bert-base-chinese.\n",
      "If your task is similar to the task the model of the ckeckpoint was trained on, you can already use BertModel for predictions without further training.\n"
     ]
    }
   ],
   "source": [
    "bert_encoder = BertModel.from_pretrained(config.BERT_EMBEDDING)"
   ]
  },
  {
   "cell_type": "code",
   "execution_count": 8,
   "metadata": {},
   "outputs": [],
   "source": [
    "def calc_f1(pref, target):\n",
    "    TP += ((pred == 1) & (target == 1)).cpu().sum()\n",
    "    TN += ((pred == 0) & (target == 0)).cpu().sum()\n",
    "    FN += ((pred == 0) & (target == 1)).cpu().sum()\n",
    "    FP += ((pred == 1) & (target == 0)).cpu().sum()\n",
    "\n",
    "    precision = TP / (TP + FP)\n",
    "    recall = TP / (TP + FN)\n",
    "    F1 = 2 * recall * precision / (recall + precision)\n",
    "    acc = (TP + TN) / (TP + TN + FP + FN)\n",
    "    return precision, recall, F1, acc"
   ]
  },
  {
   "cell_type": "code",
   "execution_count": 60,
   "metadata": {},
   "outputs": [
    {
     "name": "stdout",
     "output_type": "stream",
     "text": [
      "model in cuda? True\n"
     ]
    }
   ],
   "source": [
    "model = BertSERModel(bert_encoder=bert_encoder, pos_weight=pos_weight)\n",
    "model.to(device) # means model = model.to(device)\n",
    "if LOG:\n",
    "    print(\"model in cuda?\", next(model.parameters()).is_cuda)\n",
    "#    from time import sleep\n",
    "#    sleep(0.25)"
   ]
  },
  {
   "cell_type": "code",
   "execution_count": 58,
   "metadata": {},
   "outputs": [],
   "source": [
    "dev_set = FGC_Dataset(config.FGC_DEV)\n",
    "dev_loader = DataLoader(dev_set, batch_size=BATCH_SIZE, collate_fn=create_mini_batch)\n",
    "id2qid = dev_set.get_id2qid()\n",
    "\n",
    "def eval(model, dev_set, id2qid):\n",
    "    dev_loader = DataLoader(dev_set, batch_size=BATCH_SIZE, collate_fn=create_mini_batch)\n",
    "    pred = []\n",
    "    label = []\n",
    "    for batch_i, batch in enumerate(dev_loader):\n",
    "        #print(len(batch))\n",
    "        label.extend(batch[3].cpu()) # batch[3] is label\n",
    "        batch = [data.to(device) for data in batch]\n",
    "        pred_batch = model._predict(batch)\n",
    "        pred.extend(pred_batch)\n",
    "    #print(label)\n",
    "    #print(pred)\n",
    "    stat = defaultdict(list)\n",
    "    for idx in range(len(dev_set)):\n",
    "        qid = id2qid[idx]\n",
    "        state = label[idx].item()*2 + pred[idx]\n",
    "        stat[qid].append(state)\n",
    "        \n",
    "    stat2 = list()\n",
    "    sum_stat =  {\n",
    "            \"precision\" : 0.0,\n",
    "            \"recall\" : 0.0,\n",
    "            \"F1\" : 0.0,\n",
    "            \"accuracy\" : 0.0\n",
    "        }\n",
    "    \n",
    "    for k, v in stat.items():\n",
    "        TP = sum([1 if ins == 3 else 0 for ins in v])\n",
    "        TN = sum([1 if ins == 0 else 0 for ins in v])\n",
    "        FN = sum([1 if ins == 2 else 0 for ins in v])\n",
    "        FP = sum([1 if ins == 1 else 0 for ins in v])\n",
    "        \n",
    "        # print(TP, TN, FN, FP)\n",
    "        \n",
    "        precision = TP / (TP + FP) if TP+FP > 0 else 0.0\n",
    "        recall = TP / (TP + FN) if TP+FN > 0 else 0.0\n",
    "        f1 = 2 * recall * precision / (recall + precision) if  (recall + precision) > 0 else 0.0\n",
    "        acc = (TP + TN) / (TP + TN + FP + FN) if (TP + TN + FP + FN) > 0 else 0.0\n",
    "\n",
    "        cur = {\n",
    "            \"precision\" : precision,\n",
    "            \"recall\" : recall,\n",
    "            \"F1\" : f1,\n",
    "            \"accuracy\" : acc\n",
    "        }\n",
    "        stat2.append(cur)\n",
    "        for k in cur:\n",
    "            sum_stat[k] += cur[k]\n",
    "    \n",
    "    # each question weight the sum\n",
    "    # remain to do is get max if SE is all negetive\n",
    "    for k in sum_stat:\n",
    "        sum_stat[k] /= len(stat2)\n",
    "    \n",
    "    return stat2, sum_stat"
   ]
  },
  {
   "cell_type": "code",
   "execution_count": 59,
   "metadata": {},
   "outputs": [],
   "source": [
    "stat, avg_stat = eval(model, dev_set, id2qid)"
   ]
  },
  {
   "cell_type": "code",
   "execution_count": 13,
   "metadata": {},
   "outputs": [],
   "source": [
    "# saving directory\n",
    "model_file_path = \"baseline\"\n",
    "\n",
    "save_model_path = config.PARAM_PATH / model_file_path\n",
    "\n",
    "if not os.path.exists(save_model_path):\n",
    "    if LOG:\n",
    "        print(\"directory {} doesn't exist, creating...\".format(save_model_path))\n",
    "    os.mkdir(save_model_path)"
   ]
  },
  {
   "cell_type": "code",
   "execution_count": 14,
   "metadata": {},
   "outputs": [],
   "source": [
    "no_decay = ['bias', 'LayerNorm.bias', 'LayerNorm.weight']\n",
    "optimizer_grouped_parameters = [\n",
    "    {'params': [p for n, p in model.named_parameters() if not any(nd in n for nd in no_decay)], 'weight_decay': 0.01},\n",
    "    {'params': [p for n, p in model.named_parameters() if any(nd in n for nd in no_decay)], 'weight_decay': 0.0}\n",
    "]"
   ]
  },
  {
   "cell_type": "code",
   "execution_count": 15,
   "metadata": {},
   "outputs": [],
   "source": [
    "if train_set == None:\n",
    "    train_set = FGC_Dataset(config.FGC_TRAIN, mode=\"train\")\n",
    "# train_set[0][0]\n",
    "train_loader = DataLoader(train_set, batch_size=BATCH_SIZE, collate_fn=create_mini_batch)"
   ]
  },
  {
   "cell_type": "code",
   "execution_count": 16,
   "metadata": {},
   "outputs": [],
   "source": [
    "# optimizer\n",
    "optimizer = AdamW(optimizer_grouped_parameters, lr=LR)\n",
    "num_train_optimization_steps = len(train_loader) * NUM_EPOCHS\n",
    "scheduler = get_linear_schedule_with_warmup(optimizer,\n",
    "                                            num_warmup_steps=NUM_WARMUP,\n",
    "                                            num_training_steps=num_train_optimization_steps)"
   ]
  },
  {
   "cell_type": "code",
   "execution_count": 17,
   "metadata": {},
   "outputs": [],
   "source": [
    "# Check that input does not exist MAX_BERT_LEN\n",
    "for data in train_set:\n",
    "    # print(data[0])\n",
    "    assert(data[1].shape[0] <= config.BERT_MAX_INPUT_LEN)"
   ]
  },
  {
   "cell_type": "code",
   "execution_count": 29,
   "metadata": {},
   "outputs": [
    {
     "name": "stdout",
     "output_type": "stream",
     "text": [
      "start training ... \n"
     ]
    },
    {
     "data": {
      "application/vnd.jupyter.widget-view+json": {
       "model_id": "6597a8e11ff2497fb6b04422200a9856",
       "version_major": 2,
       "version_minor": 0
      },
      "text/plain": [
       "HBox(children=(IntProgress(value=0, max=3928), HTML(value='')))"
      ]
     },
     "metadata": {},
     "output_type": "display_data"
    },
    {
     "name": "stdout",
     "output_type": "stream",
     "text": [
      "\n"
     ]
    },
    {
     "ename": "KeyboardInterrupt",
     "evalue": "",
     "output_type": "error",
     "traceback": [
      "\u001b[0;31m---------------------------------------------------------------------------\u001b[0m",
      "\u001b[0;31mKeyboardInterrupt\u001b[0m                         Traceback (most recent call last)",
      "\u001b[0;32m<ipython-input-29-8f745de661e4>\u001b[0m in \u001b[0;36m<module>\u001b[0;34m\u001b[0m\n\u001b[1;32m     10\u001b[0m         \u001b[0mloss\u001b[0m \u001b[0;34m=\u001b[0m \u001b[0mmodel\u001b[0m\u001b[0;34m(\u001b[0m\u001b[0mbatch\u001b[0m\u001b[0;34m)\u001b[0m\u001b[0;34m\u001b[0m\u001b[0;34m\u001b[0m\u001b[0m\n\u001b[1;32m     11\u001b[0m \u001b[0;34m\u001b[0m\u001b[0m\n\u001b[0;32m---> 12\u001b[0;31m         \u001b[0mloss\u001b[0m\u001b[0;34m.\u001b[0m\u001b[0mbackward\u001b[0m\u001b[0;34m(\u001b[0m\u001b[0;34m)\u001b[0m\u001b[0;34m\u001b[0m\u001b[0;34m\u001b[0m\u001b[0m\n\u001b[0m\u001b[1;32m     13\u001b[0m         \u001b[0moptimizer\u001b[0m\u001b[0;34m.\u001b[0m\u001b[0mstep\u001b[0m\u001b[0;34m(\u001b[0m\u001b[0;34m)\u001b[0m\u001b[0;34m\u001b[0m\u001b[0;34m\u001b[0m\u001b[0m\n\u001b[1;32m     14\u001b[0m         \u001b[0mscheduler\u001b[0m\u001b[0;34m.\u001b[0m\u001b[0mstep\u001b[0m\u001b[0;34m(\u001b[0m\u001b[0;34m)\u001b[0m\u001b[0;34m\u001b[0m\u001b[0;34m\u001b[0m\u001b[0m\n",
      "\u001b[0;32m/usr/local/lib/python3.6/dist-packages/torch/tensor.py\u001b[0m in \u001b[0;36mbackward\u001b[0;34m(self, gradient, retain_graph, create_graph)\u001b[0m\n\u001b[1;32m    196\u001b[0m                 \u001b[0mproducts\u001b[0m\u001b[0;34m.\u001b[0m \u001b[0mDefaults\u001b[0m \u001b[0mto\u001b[0m\u001b[0;31m \u001b[0m\u001b[0;31m`\u001b[0m\u001b[0;31m`\u001b[0m\u001b[0;32mFalse\u001b[0m\u001b[0;31m`\u001b[0m\u001b[0;31m`\u001b[0m\u001b[0;34m.\u001b[0m\u001b[0;34m\u001b[0m\u001b[0;34m\u001b[0m\u001b[0m\n\u001b[1;32m    197\u001b[0m         \"\"\"\n\u001b[0;32m--> 198\u001b[0;31m         \u001b[0mtorch\u001b[0m\u001b[0;34m.\u001b[0m\u001b[0mautograd\u001b[0m\u001b[0;34m.\u001b[0m\u001b[0mbackward\u001b[0m\u001b[0;34m(\u001b[0m\u001b[0mself\u001b[0m\u001b[0;34m,\u001b[0m \u001b[0mgradient\u001b[0m\u001b[0;34m,\u001b[0m \u001b[0mretain_graph\u001b[0m\u001b[0;34m,\u001b[0m \u001b[0mcreate_graph\u001b[0m\u001b[0;34m)\u001b[0m\u001b[0;34m\u001b[0m\u001b[0;34m\u001b[0m\u001b[0m\n\u001b[0m\u001b[1;32m    199\u001b[0m \u001b[0;34m\u001b[0m\u001b[0m\n\u001b[1;32m    200\u001b[0m     \u001b[0;32mdef\u001b[0m \u001b[0mregister_hook\u001b[0m\u001b[0;34m(\u001b[0m\u001b[0mself\u001b[0m\u001b[0;34m,\u001b[0m \u001b[0mhook\u001b[0m\u001b[0;34m)\u001b[0m\u001b[0;34m:\u001b[0m\u001b[0;34m\u001b[0m\u001b[0;34m\u001b[0m\u001b[0m\n",
      "\u001b[0;32m/usr/local/lib/python3.6/dist-packages/torch/autograd/__init__.py\u001b[0m in \u001b[0;36mbackward\u001b[0;34m(tensors, grad_tensors, retain_graph, create_graph, grad_variables)\u001b[0m\n\u001b[1;32m     98\u001b[0m     Variable._execution_engine.run_backward(\n\u001b[1;32m     99\u001b[0m         \u001b[0mtensors\u001b[0m\u001b[0;34m,\u001b[0m \u001b[0mgrad_tensors\u001b[0m\u001b[0;34m,\u001b[0m \u001b[0mretain_graph\u001b[0m\u001b[0;34m,\u001b[0m \u001b[0mcreate_graph\u001b[0m\u001b[0;34m,\u001b[0m\u001b[0;34m\u001b[0m\u001b[0;34m\u001b[0m\u001b[0m\n\u001b[0;32m--> 100\u001b[0;31m         allow_unreachable=True)  # allow_unreachable flag\n\u001b[0m\u001b[1;32m    101\u001b[0m \u001b[0;34m\u001b[0m\u001b[0m\n\u001b[1;32m    102\u001b[0m \u001b[0;34m\u001b[0m\u001b[0m\n",
      "\u001b[0;31mKeyboardInterrupt\u001b[0m: "
     ]
    }
   ],
   "source": [
    "print('start training ... ')\n",
    "\n",
    "for epoch_i in range(NUM_EPOCHS):\n",
    "    model.train()\n",
    "    running_loss = 0.0\n",
    "    for batch_i, batch in enumerate(tqdm(train_loader)):\n",
    "        optimizer.zero_grad()\n",
    "\n",
    "        batch = [data.to(device) for data in batch] # batch[0] = ids, batch[1] = ...\n",
    "        loss = model(batch)\n",
    "\n",
    "        loss.backward()\n",
    "        optimizer.step()\n",
    "        scheduler.step()\n",
    "        running_loss += loss.item()\n",
    "    learning_rate_scalar = scheduler.get_lr()[0]\n",
    "    print('lr = %f' % learning_rate_scalar)\n",
    "    print('epoch %d train_loss: %.3f' % (epoch_i, running_loss / len(dataloader_train)))\n",
    "    \n",
    "    eval_epoch_frequency = 1\n",
    "    if epoch_i % eval_epoch_frequency == 0:\n",
    "        eval_model(dev_set, epoch_i, trained_model_path, sp_golds, atype_golds)"
   ]
  },
  {
   "cell_type": "code",
   "execution_count": null,
   "metadata": {},
   "outputs": [],
   "source": [
    "# save model here"
   ]
  },
  {
   "cell_type": "code",
   "execution_count": null,
   "metadata": {},
   "outputs": [],
   "source": [
    "print(\"hi\")"
   ]
  },
  {
   "cell_type": "code",
   "execution_count": null,
   "metadata": {},
   "outputs": [],
   "source": []
  },
  {
   "cell_type": "code",
   "execution_count": null,
   "metadata": {},
   "outputs": [],
   "source": []
  }
 ],
 "metadata": {
  "kernelspec": {
   "display_name": "Python 3",
   "language": "python",
   "name": "python3"
  },
  "language_info": {
   "codemirror_mode": {
    "name": "ipython",
    "version": 3
   },
   "file_extension": ".py",
   "mimetype": "text/x-python",
   "name": "python",
   "nbconvert_exporter": "python",
   "pygments_lexer": "ipython3",
   "version": "3.6.8"
  }
 },
 "nbformat": 4,
 "nbformat_minor": 4
}
