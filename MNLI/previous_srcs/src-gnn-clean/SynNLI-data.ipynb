{
 "cells": [
  {
   "cell_type": "code",
   "execution_count": 407,
   "metadata": {},
   "outputs": [
    {
     "name": "stdout",
     "output_type": "stream",
     "text": [
      "The autoreload extension is already loaded. To reload it, use:\n",
      "  %reload_ext autoreload\n"
     ]
    }
   ],
   "source": [
    "%load_ext autoreload\n",
    "%autoreload 2"
   ]
  },
  {
   "cell_type": "code",
   "execution_count": 797,
   "metadata": {},
   "outputs": [],
   "source": [
    "import argparse\n",
    "import numpy as np\n",
    "import os\n",
    "os.environ[\"CUDA_VISIBLE_DEVICES\"]='0'\n",
    "import torch\n",
    "import random\n",
    "import pickle\n",
    "import glob\n",
    "import torch.nn.functional as F\n",
    "from torch_geometric.nn import GATConv\n",
    "from torch_geometric.nn import GCNConv\n",
    "import torch.nn as nn\n",
    "import json\n",
    "import jsonlines as jsonl\n",
    "\n",
    "import config\n",
    "import utils\n",
    "\n",
    "from torch_geometric.nn import GCNConv\n",
    "import networkx as nx\n",
    "from torch_geometric.utils.convert import to_networkx\n",
    "from torch_geometric.data.data import Data\n",
    "import matplotlib.pyplot as plt\n",
    "from tqdm import tqdm_notebook as tqdm\n",
    "import stanza\n",
    "from networkx.drawing.nx_pydot import graphviz_layout\n",
    "from torchtext import vocab as vocab\n",
    "import torchtext"
   ]
  },
  {
   "cell_type": "code",
   "execution_count": 134,
   "metadata": {},
   "outputs": [
    {
     "name": "stderr",
     "output_type": "stream",
     "text": [
      "/opt/conda/lib/python3.7/site-packages/ipykernel_launcher.py:5: TqdmDeprecationWarning: This function will be removed in tqdm==5.0.0\n",
      "Please use `tqdm.notebook.tqdm` instead of `tqdm.tqdm_notebook`\n",
      "  \"\"\"\n"
     ]
    },
    {
     "data": {
      "application/vnd.jupyter.widget-view+json": {
       "model_id": "8f0600e80a4141b1adf1a8e346b97d48",
       "version_major": 2,
       "version_minor": 0
      },
      "text/plain": [
       "HBox(children=(FloatProgress(value=0.0, max=1917494.0), HTML(value='')))"
      ]
     },
     "metadata": {},
     "output_type": "display_data"
    },
    {
     "name": "stdout",
     "output_type": "stream",
     "text": [
      "\n"
     ]
    }
   ],
   "source": [
    "glove = {}\n",
    "emb_file = config.GLOVE\n",
    "with open(emb_file, 'r', encoding=\"utf-8\") as fo:\n",
    "    lines = fo.readlines()\n",
    "    for line in tqdm(lines):\n",
    "        values = line.split()\n",
    "        word = values[0]\n",
    "        vector = np.asarray(values[1:], \"float32\")\n",
    "        glove[word] = vector"
   ]
  },
  {
   "cell_type": "code",
   "execution_count": 412,
   "metadata": {},
   "outputs": [
    {
     "name": "stdout",
     "output_type": "stream",
     "text": [
      "[-0.2028   0.44239  0.61904 -0.11624 -0.33635 -0.24591]\n",
      "[ 0.98379  0.3092  -0.2141   0.73205  0.70425 -0.40901]\n",
      "1917494\n"
     ]
    }
   ],
   "source": [
    "print(glove[\"obama\"][:6])\n",
    "print(glove[\"unk\"][:6])\n",
    "print(len(glove))\n",
    "# to do handle OOV embedding"
   ]
  },
  {
   "cell_type": "code",
   "execution_count": 410,
   "metadata": {},
   "outputs": [],
   "source": [
    "data_file=config.DEV_MA_FILE\n",
    "emb=config.GLOVE\n",
    "parser=None\n",
    "save=False\n",
    "target=config.PDEV_MA_FILE"
   ]
  },
  {
   "cell_type": "code",
   "execution_count": 411,
   "metadata": {},
   "outputs": [
    {
     "name": "stdout",
     "output_type": "stream",
     "text": [
      "63735n\n"
     ]
    }
   ],
   "source": [
    "with open(data_file) as fo:\n",
    "    raw_lines = fo.readlines()\n",
    "    json_data = [json.loads(line) for line in raw_lines]\n",
    "print(json_data[0][config.idf])"
   ]
  },
  {
   "cell_type": "code",
   "execution_count": null,
   "metadata": {},
   "outputs": [],
   "source": [
    "stanza.download('zh')"
   ]
  },
  {
   "cell_type": "code",
   "execution_count": 413,
   "metadata": {},
   "outputs": [
    {
     "name": "stderr",
     "output_type": "stream",
     "text": [
      "2020-08-03 18:41:05 WARNING: Can not find mwt: default from official model list. Ignoring it.\n",
      "2020-08-03 18:41:05 INFO: Loading these models for language: en (English):\n",
      "=======================\n",
      "| Processor | Package |\n",
      "-----------------------\n",
      "| tokenize  | ewt     |\n",
      "| pos       | ewt     |\n",
      "| lemma     | ewt     |\n",
      "| depparse  | ewt     |\n",
      "=======================\n",
      "\n",
      "2020-08-03 18:41:05 INFO: Use device: gpu\n",
      "2020-08-03 18:41:05 INFO: Loading: tokenize\n",
      "2020-08-03 18:41:06 INFO: Loading: pos\n",
      "2020-08-03 18:41:07 INFO: Loading: lemma\n",
      "2020-08-03 18:41:07 INFO: Loading: depparse\n",
      "2020-08-03 18:41:08 INFO: Done loading processors!\n"
     ]
    }
   ],
   "source": [
    "nlp = stanza.Pipeline(lang='en', processors='tokenize,mwt,pos,lemma,depparse')"
   ]
  },
  {
   "cell_type": "code",
   "execution_count": 424,
   "metadata": {},
   "outputs": [
    {
     "name": "stdout",
     "output_type": "stream",
     "text": [
      "['_dependencies', 'build_dependencies', 'dependencies', 'dependencies_string', 'print_dependencies']\n",
      "('Everyone', '3', 'nsubj')\n",
      "('really', '3', 'advmod')\n",
      "('likes', '0', 'root')\n",
      "('the', '6', 'det')\n",
      "('newest', '6', 'amod')\n",
      "('benefits', '3', 'obj')\n",
      "('Everyone', '3', 'nsubj')\n",
      "('really', '3', 'advmod')\n",
      "('likes', '0', 'root')\n",
      "('the', '6', 'det')\n",
      "('newest', '6', 'amod')\n",
      "('benefits', '3', 'obj')\n"
     ]
    }
   ],
   "source": [
    "dep_r = [line for line in dir(nlp(json_data[0][config.hf]).sentences[0]) if \"dep\" in line]\n",
    "print(dep_r)\n",
    "print((nlp(json_data[0][config.hf]).sentences[0]).dependencies_string())\n",
    "nlp(json_data[0][config.hf]).sentences[0].print_dependencies()"
   ]
  },
  {
   "cell_type": "code",
   "execution_count": 70,
   "metadata": {},
   "outputs": [],
   "source": [
    "preprocessed_data = []\n",
    "for data in json_data:\n",
    "    #process_sentance()\n",
    "    pass"
   ]
  },
  {
   "cell_type": "code",
   "execution_count": 420,
   "metadata": {},
   "outputs": [
    {
     "name": "stdout",
     "output_type": "stream",
     "text": [
      "id: 1\tword: Barack\thead id: 4\thead: born\tdeprel: nsubj:pass\n",
      "id: 2\tword: Obama\thead id: 1\thead: Barack\tdeprel: flat\n",
      "id: 3\tword: was\thead id: 4\thead: born\tdeprel: aux:pass\n",
      "id: 4\tword: born\thead id: 0\thead: root\tdeprel: root\n",
      "id: 5\tword: in\thead id: 6\thead: Hawaii\tdeprel: case\n",
      "id: 6\tword: Hawaii\thead id: 4\thead: born\tdeprel: obl\n",
      "id: 7\tword: .\thead id: 4\thead: born\tdeprel: punct\n",
      "id: 1\tword: He\thead id: 3\thead: elected\tdeprel: nsubj:pass\n",
      "id: 2\tword: was\thead id: 3\thead: elected\tdeprel: aux:pass\n",
      "id: 3\tword: elected\thead id: 0\thead: root\tdeprel: root\n",
      "id: 4\tword: president\thead id: 3\thead: elected\tdeprel: xcomp\n",
      "id: 5\tword: in\thead id: 6\thead: 2008\tdeprel: case\n",
      "id: 6\tword: 2008\thead id: 3\thead: elected\tdeprel: obl\n",
      "id: 7\tword: .\thead id: 3\thead: elected\tdeprel: punct\n"
     ]
    }
   ],
   "source": [
    "utils.print_compact_dep(doc)"
   ]
  },
  {
   "cell_type": "code",
   "execution_count": 425,
   "metadata": {},
   "outputs": [],
   "source": [
    "s3_exp = \"I am a dog. He is a dog. She is a cat.\""
   ]
  },
  {
   "cell_type": "code",
   "execution_count": 439,
   "metadata": {},
   "outputs": [
    {
     "name": "stdout",
     "output_type": "stream",
     "text": [
      "[0, 1, 2, 3, 4, 5, 6, 7, 8, 9, 10, 11, 12, 13, 14, 15, 16, 17]\n",
      "[(0, 4), (0, 6), (4, 1), (4, 2), (4, 3), (4, 5), (6, 10), (6, 12), (10, 7), (10, 8), (10, 9), (10, 11), (12, 16), (16, 13), (16, 14), (16, 15), (16, 17)]\n"
     ]
    },
    {
     "data": {
      "image/png": "[encoded data removed]",
      "text/plain": [
       "<Figure size 432x288 with 1 Axes>"
      ]
     },
     "metadata": {},
     "output_type": "display_data"
    }
   ],
   "source": [
    "dep_s3 = utils.text2dep(s3_exp, nlp)\n",
    "utils.draw(dep_s3)"
   ]
  },
  {
   "cell_type": "code",
   "execution_count": 430,
   "metadata": {},
   "outputs": [],
   "source": [
    "ANLI_example = \"Kwon So-hyun (born August 30, 1994), is a South Korean singer and actress. She was known as a member of the South Korean girl group 4Minute, under Cube Entertainment. She is also a former member of the South Korean girl group, Orange. Before June 15, 2016 (end of her contract with Cube), Sohyun left 4Minute and the record label along with members Nam Ji-hyun, Heo Ga-yoon, and Jeon Ji-yoon.\""
   ]
  },
  {
   "cell_type": "code",
   "execution_count": 440,
   "metadata": {},
   "outputs": [
    {
     "name": "stdout",
     "output_type": "stream",
     "text": [
      "[0, 1, 2, 3, 4, 5, 6, 7, 8, 9, 10, 11, 12, 13, 14, 15, 16, 17, 18, 19, 20, 21, 22, 23, 24, 25, 26, 27, 28, 29, 30, 31, 32, 33, 34, 35, 36, 37, 38, 39, 40, 41, 42, 43, 44, 45, 46, 47, 48, 49, 50, 51, 52, 53, 54, 55, 56, 57, 58, 59, 60, 61, 62, 63, 64, 65, 66, 67, 68, 69, 70, 71, 72, 73, 74, 75, 76, 77, 78, 79, 80, 81, 82, 83, 84, 85, 86, 87, 88, 89, 90, 91, 92, 93, 94]\n",
      "[(0, 15), (0, 19), (1, 2), (1, 4), (4, 3), (4, 5), (5, 6), (5, 7), (5, 8), (5, 9), (15, 1), (15, 10), (15, 11), (15, 12), (15, 13), (15, 14), (15, 17), (15, 18), (17, 16), (19, 22), (19, 39), (22, 20), (22, 21), (22, 25), (22, 38), (25, 23), (25, 24), (25, 31), (25, 34), (25, 37), (31, 26), (31, 27), (31, 28), (31, 29), (31, 30), (31, 33), (33, 32), (37, 35), (37, 36), (39, 45), (39, 55), (45, 40), (45, 41), (45, 42), (45, 43), (45, 44), (45, 51), (45, 54), (50, 49), (51, 46), (51, 47), (51, 48), (51, 50), (51, 52), (51, 53), (55, 71), (57, 56), (57, 58), (57, 59), (57, 60), (57, 62), (62, 61), (62, 65), (62, 68), (65, 63), (65, 64), (65, 67), (67, 66), (71, 57), (71, 69), (71, 70), (71, 73), (71, 80), (71, 94), (73, 72), (73, 77), (77, 74), (77, 75), (77, 76), (80, 78), (80, 79), (80, 81), (81, 82), (81, 84), (81, 85), (81, 87), (81, 90), (85, 83), (85, 86), (90, 88), (90, 89), (90, 91), (90, 92), (90, 93)]\n"
     ]
    },
    {
     "data": {
      "image/png": "[encoded data removed]",
      "text/plain": [
       "<Figure size 432x288 with 1 Axes>"
      ]
     },
     "metadata": {},
     "output_type": "display_data"
    }
   ],
   "source": [
    "dep_anli_big = utils.text2dep(ANLI_example, nlp)\n",
    "utils.draw(dep_anli_big, node_size=100, save_img_file='big_anli_test_dpe.png')"
   ]
  },
  {
   "cell_type": "code",
   "execution_count": 442,
   "metadata": {},
   "outputs": [
    {
     "data": {
      "text/plain": [
       "[(4, 1, 'nsubj'),\n",
       " (4, 2, 'cop'),\n",
       " (4, 3, 'det'),\n",
       " (0, 4, 'root'),\n",
       " (4, 5, 'punct'),\n",
       " (10, 7, 'nsubj'),\n",
       " (10, 8, 'cop'),\n",
       " (10, 9, 'det'),\n",
       " (6, 10, 'root'),\n",
       " (10, 11, 'punct'),\n",
       " (0, 6, 'bridge'),\n",
       " (16, 13, 'nsubj'),\n",
       " (16, 14, 'cop'),\n",
       " (16, 15, 'det'),\n",
       " (12, 16, 'root'),\n",
       " (16, 17, 'punct'),\n",
       " (6, 12, 'bridge')]"
      ]
     },
     "execution_count": 442,
     "metadata": {},
     "output_type": "execute_result"
    }
   ],
   "source": [
    "dep.edge_attr"
   ]
  },
  {
   "cell_type": "code",
   "execution_count": 473,
   "metadata": {},
   "outputs": [],
   "source": [
    "def load_glove_vector(glove_embedding_file = config.GLOVE, dimension=config.GLOVE_DIMENSION, save_vocab = config.GLOVE_VOCAB, save_word2id = config.GLOVE_WORD2ID, save_dict=True):\n",
    "    words = []\n",
    "    idx = 0\n",
    "    word2idx = {}\n",
    "    glove = []\n",
    "    #glove = bcolz.carray(np.zeros(1), rootdir=f'{glove_path}/6B.50.dat', mode='w')\n",
    "\n",
    "    with open(glove_embedding_file, 'r') as fo:\n",
    "        lines = fo.readlines()\n",
    "        # add [UNK] handler\n",
    "        words.append(\"[UNK]\")\n",
    "        word2idx[\"[UNK]\"] = idx\n",
    "        glove.append(np.zeros(300)) # 300 is vector dimension\n",
    "        idx += 1\n",
    "        # add [ROOT] handler\n",
    "        words.append(\"[ROOT]\")\n",
    "        word2idx[\"[ROOT]\"] = idx\n",
    "        glove.append(np.zeros(300)) # 300 is vector dimension\n",
    "        idx += 1\n",
    "        # load vectors\n",
    "        for line in tqdm(lines):\n",
    "            line = line.split()\n",
    "            word = line[0]\n",
    "            words.append(word)\n",
    "            word2idx[word] = idx\n",
    "            vector = np.asarray(line[1:], \"float32\")\n",
    "            glove.append(vector)\n",
    "            idx += 1\n",
    "    #glove = bcolz.carray(vectors[1:].reshape((400000, 50)), rootdir=f'{glove_path}/6B.50.dat', mode='w')\n",
    "    #glove.flush()\n",
    "    if save_dict == True:\n",
    "        pickle.dump(words, open(config.GLOVE_ROOT / config.GLOVE_VOCAB, 'wb'))\n",
    "        pickle.dump(word2idx, open(config.GLOVE_ROOT / config.GLOVE_WORD2ID, 'wb'))\n",
    "    # later can load as \n",
    "    return glove, words, word2idx, idx"
   ]
  },
  {
   "cell_type": "code",
   "execution_count": 479,
   "metadata": {},
   "outputs": [
    {
     "data": {
      "application/vnd.jupyter.widget-view+json": {
       "model_id": "bfa4efa653064c3ab5fbe3a6f9270efa",
       "version_major": 2,
       "version_minor": 0
      },
      "text/plain": [
       "HBox(children=(FloatProgress(value=0.0, max=1917494.0), HTML(value='')))"
      ]
     },
     "metadata": {},
     "output_type": "display_data"
    },
    {
     "name": "stdout",
     "output_type": "stream",
     "text": [
      "\n"
     ]
    }
   ],
   "source": [
    "glove, words, word2idx, idx = utils.load_glove_vector()"
   ]
  },
  {
   "cell_type": "code",
   "execution_count": 480,
   "metadata": {},
   "outputs": [
    {
     "name": "stdout",
     "output_type": "stream",
     "text": [
      "[UNK] 0 [0. 0. 0. 0. 0.]\n"
     ]
    }
   ],
   "source": [
    "print(words[0], word2idx['[UNK]'], glove[word2idx['[UNK]']][:5])"
   ]
  },
  {
   "cell_type": "code",
   "execution_count": 481,
   "metadata": {},
   "outputs": [
    {
     "name": "stdout",
     "output_type": "stream",
     "text": [
      ", 1 [ 0.18378  -0.12123  -0.11987   0.015227 -0.19121 ]\n"
     ]
    }
   ],
   "source": [
    "print(words[1], word2idx[','], glove[word2idx[',']][:5])"
   ]
  },
  {
   "cell_type": "code",
   "execution_count": 580,
   "metadata": {},
   "outputs": [],
   "source": [
    "glove = torch.tensor(glove, dtype=torch.float32) # dtype should be torch.float32"
   ]
  },
  {
   "cell_type": "code",
   "execution_count": 581,
   "metadata": {},
   "outputs": [
    {
     "name": "stdout",
     "output_type": "stream",
     "text": [
      "torch.Size([1917495, 300])\n"
     ]
    }
   ],
   "source": [
    "print(glove.size())"
   ]
  },
  {
   "cell_type": "code",
   "execution_count": 727,
   "metadata": {},
   "outputs": [],
   "source": [
    "import torch\n",
    "import torch.nn.functional as F\n",
    "from torch_geometric.nn import GCNConv\n",
    "\n",
    "class Net(torch.nn.Module):\n",
    "    def __init__(self):\n",
    "        super(Net, self).__init__()\n",
    "        self.embedding = nn.Embedding.from_pretrained(glove, freeze=True)\n",
    "        self.conv1 = GCNConv(300, 16)\n",
    "        self.conv2 = GCNConv(16, 3)\n",
    "\n",
    "    def forward(self, data):\n",
    "        x, edge_index, nodes = data.x, data.edge_index, data.node_attr\n",
    "        #x = torch.tensor([ word2idx[y] if y in word2idx.keys() else word2idx[\"[UNK]\"] for  in nodes.])\n",
    "        x = self.embedding(x)\n",
    "        x = self.conv1(x, edge_index)\n",
    "        x = F.relu(x)\n",
    "        x = F.dropout(x, training=self.training)\n",
    "        x = self.conv2(x, edge_index)\n",
    "\n",
    "        return F.log_softmax(x, dim=1)"
   ]
  },
  {
   "cell_type": "code",
   "execution_count": 728,
   "metadata": {},
   "outputs": [],
   "source": [
    "from torch_geometric.data import Dataset\n",
    "\n",
    "class SynNLI_Dataset(Dataset):\n",
    "    def __init__(self, root, nlp=None):\n",
    "        super(self).__init__(root, transform, pre_transform)\n",
    "        \n",
    "\n",
    "    def download(self):\n",
    "        # Download to `self.raw_dir`.\n",
    "        pass\n",
    "\n",
    "    def process(self):\n",
    "        pass\n",
    "\n",
    "    def len(self):\n",
    "        return len(self.data)\n",
    "\n",
    "    def get(self, idx):\n",
    "        return self.data[idx]"
   ]
  },
  {
   "cell_type": "code",
   "execution_count": 745,
   "metadata": {},
   "outputs": [],
   "source": [
    "from torch_geometric.data import Data, DataLoader\n",
    "\n",
    "data_list = [utils.text2dep(\"I am a person.\", nlp, word2idx=word2idx), utils.text2dep(\"He is a dog. 123 bla saar kher hjaklehakejazzzzzzzzzzzzzz\", nlp, word2idx=word2idx),  utils.text2dep(ANLI_example, nlp, word2idx=word2idx)]\n",
    "loader = DataLoader(data_list, batch_size=32)"
   ]
  },
  {
   "cell_type": "code",
   "execution_count": 746,
   "metadata": {},
   "outputs": [
    {
     "data": {
      "text/plain": [
       "torch.Size([113])"
      ]
     },
     "execution_count": 746,
     "metadata": {},
     "output_type": "execute_result"
    }
   ],
   "source": [
    "next(iter(loader)).x.size()"
   ]
  },
  {
   "cell_type": "code",
   "execution_count": 747,
   "metadata": {},
   "outputs": [],
   "source": [
    "model = Net()"
   ]
  },
  {
   "cell_type": "code",
   "execution_count": 750,
   "metadata": {},
   "outputs": [
    {
     "data": {
      "text/plain": [
       "torch.Size([113, 3])"
      ]
     },
     "execution_count": 750,
     "metadata": {},
     "output_type": "execute_result"
    }
   ],
   "source": [
    "model(next(iter(loader))).size()"
   ]
  },
  {
   "cell_type": "code",
   "execution_count": 749,
   "metadata": {},
   "outputs": [
    {
     "name": "stdout",
     "output_type": "stream",
     "text": [
      "['[ROOT]', 'test', ',', 'oov', 'zzzzzzzzz']\n",
      "tensor([     0,    667,      1, 444653, 285648])\n"
     ]
    }
   ],
   "source": [
    "dep = utils.text2dep(\"test, oov zzzzzzzzz\", nlp, word2idx=word2idx)\n",
    "print(dep.node_attr)\n",
    "print(dep.x)"
   ]
  },
  {
   "cell_type": "code",
   "execution_count": null,
   "metadata": {},
   "outputs": [],
   "source": [
    "todo 8/4\n",
    "multi-q\n",
    "dataset-preprocessimng all (save as jsonl)\n",
    "ask about SICK dataset solved? done\n",
    "paper study on multiq \n"
   ]
  },
  {
   "cell_type": "code",
   "execution_count": 787,
   "metadata": {},
   "outputs": [
    {
     "name": "stdout",
     "output_type": "stream",
     "text": [
      "{'annotator_labels': ['neutral', 'entailment', 'neutral', 'neutral', 'neutral'], 'genre': 'slate', 'gold_label': 'neutral', 'pairID': '63735n', 'promptID': '63735', 'sentence1': 'The new rights are nice enough', 'sentence1_binary_parse': '( ( The ( new rights ) ) ( are ( nice enough ) ) )', 'sentence1_parse': '(ROOT (S (NP (DT The) (JJ new) (NNS rights)) (VP (VBP are) (ADJP (JJ nice) (RB enough)))))', 'sentence2': 'Everyone really likes the newest benefits ', 'sentence2_binary_parse': '( Everyone ( really ( likes ( the ( newest benefits ) ) ) ) )', 'sentence2_parse': '(ROOT (S (NP (NN Everyone)) (VP (ADVP (RB really)) (VBZ likes) (NP (DT the) (JJS newest) (NNS benefits)))))'}\n"
     ]
    }
   ],
   "source": [
    "print(json_data[0])"
   ]
  },
  {
   "cell_type": "code",
   "execution_count": 800,
   "metadata": {},
   "outputs": [],
   "source": [
    "def process_one_example(data, nlp):\n",
    "    ret = {}\n",
    "    ret[config.idf] = data[config.idf]\n",
    "    ret[config.ph] = nlp(data[config.pf])\n",
    "    ret[config.hf] = nlp(data[config.hf])\n",
    "    ret[config.lf] = config.label_to_id[data[config.lf]]\n",
    "    return ret"
   ]
  },
  {
   "cell_type": "code",
   "execution_count": 805,
   "metadata": {},
   "outputs": [],
   "source": [
    "import utils"
   ]
  },
  {
   "cell_type": "code",
   "execution_count": 807,
   "metadata": {},
   "outputs": [
    {
     "name": "stderr",
     "output_type": "stream",
     "text": [
      "Downloading https://raw.githubusercontent.com/stanfordnlp/stanza-resources/master/resources_1.0.0.json: 120kB [00:00, 401kB/s]                     \n",
      "2020-08-04 17:46:15 INFO: Downloading default packages for language: en (English)...\n",
      "2020-08-04 17:46:16 INFO: File exists: /root/stanza_resources/en/default.zip.\n",
      "2020-08-04 17:46:22 INFO: Finished downloading models and saved to /root/stanza_resources.\n",
      "2020-08-04 17:46:22 WARNING: Can not find mwt: default from official model list. Ignoring it.\n",
      "2020-08-04 17:46:22 INFO: Loading these models for language: en (English):\n",
      "=======================\n",
      "| Processor | Package |\n",
      "-----------------------\n",
      "| tokenize  | ewt     |\n",
      "| pos       | ewt     |\n",
      "| lemma     | ewt     |\n",
      "| depparse  | ewt     |\n",
      "=======================\n",
      "\n",
      "2020-08-04 17:46:22 INFO: Use device: gpu\n",
      "2020-08-04 17:46:22 INFO: Loading: tokenize\n",
      "2020-08-04 17:46:22 INFO: Loading: pos\n",
      "2020-08-04 17:46:23 INFO: Loading: lemma\n",
      "2020-08-04 17:46:23 INFO: Loading: depparse\n",
      "2020-08-04 17:46:24 INFO: Done loading processors!\n"
     ]
    },
    {
     "data": {
      "application/vnd.jupyter.widget-view+json": {
       "model_id": "57041cd040ca4c86a894d502bd15b653",
       "version_major": 2,
       "version_minor": 0
      },
      "text/plain": [
       "HBox(children=(FloatProgress(value=0.0, max=10.0), HTML(value='')))"
      ]
     },
     "metadata": {},
     "output_type": "display_data"
    },
    {
     "name": "stdout",
     "output_type": "stream",
     "text": [
      "\n"
     ]
    }
   ],
   "source": [
    "#x = utils.process_data(function_test=False)"
   ]
  },
  {
   "cell_type": "code",
   "execution_count": 811,
   "metadata": {},
   "outputs": [
    {
     "name": "stderr",
     "output_type": "stream",
     "text": [
      "Downloading https://raw.githubusercontent.com/stanfordnlp/stanza-resources/master/resources_1.0.0.json: 120kB [00:00, 380kB/s]                     \n",
      "2020-08-04 18:24:04 INFO: Downloading default packages for language: en (English)...\n",
      "2020-08-04 18:24:05 INFO: File exists: /root/stanza_resources/en/default.zip.\n",
      "2020-08-04 18:24:11 INFO: Finished downloading models and saved to /root/stanza_resources.\n",
      "2020-08-04 18:24:11 WARNING: Can not find mwt: default from official model list. Ignoring it.\n",
      "2020-08-04 18:24:11 INFO: Loading these models for language: en (English):\n",
      "=======================\n",
      "| Processor | Package |\n",
      "-----------------------\n",
      "| tokenize  | ewt     |\n",
      "| pos       | ewt     |\n",
      "| lemma     | ewt     |\n",
      "| depparse  | ewt     |\n",
      "=======================\n",
      "\n",
      "2020-08-04 18:24:11 INFO: Use device: gpu\n",
      "2020-08-04 18:24:11 INFO: Loading: tokenize\n",
      "2020-08-04 18:24:11 INFO: Loading: pos\n",
      "2020-08-04 18:24:12 INFO: Loading: lemma\n",
      "2020-08-04 18:24:12 INFO: Loading: depparse\n",
      "2020-08-04 18:24:13 INFO: Done loading processors!\n"
     ]
    },
    {
     "name": "stdout",
     "output_type": "stream",
     "text": [
      "file /work/2020-IIS-NLU-internship/MNLI/data/MNLI_Stanza/pre_multinli_1.0_dev_matched.jsonl already exist\n",
      "if u still want to procceed, add force_exe=True in function arg\n",
      "exiting\n"
     ]
    }
   ],
   "source": [
    "x = utils.parse_data(function_test=False)"
   ]
  },
  {
   "cell_type": "code",
   "execution_count": 815,
   "metadata": {},
   "outputs": [
    {
     "data": {
      "text/plain": [
       "tensor(39.7453)"
      ]
     },
     "execution_count": 815,
     "metadata": {},
     "output_type": "execute_result"
    }
   ],
   "source": [
    "glove[word2idx[\"good\"]]@glove[word2idx[\"excellent\"]]"
   ]
  },
  {
   "cell_type": "code",
   "execution_count": 816,
   "metadata": {},
   "outputs": [
    {
     "data": {
      "text/plain": [
       "tensor(37.2005)"
      ]
     },
     "execution_count": 816,
     "metadata": {},
     "output_type": "execute_result"
    }
   ],
   "source": [
    "glove[word2idx[\"good\"]]@glove[word2idx[\"bad\"]]"
   ]
  },
  {
   "cell_type": "code",
   "execution_count": 819,
   "metadata": {},
   "outputs": [
    {
     "data": {
      "text/plain": [
       "tensor(41.1199)"
      ]
     },
     "execution_count": 819,
     "metadata": {},
     "output_type": "execute_result"
    }
   ],
   "source": [
    "glove[word2idx[\"good\"]]@glove[word2idx[\"nice\"]]"
   ]
  },
  {
   "cell_type": "code",
   "execution_count": 818,
   "metadata": {},
   "outputs": [
    {
     "data": {
      "text/plain": [
       "tensor(27.7168)"
      ]
     },
     "execution_count": 818,
     "metadata": {},
     "output_type": "execute_result"
    }
   ],
   "source": [
    "glove[word2idx[\"good\"]]@glove[word2idx[\"dog\"]]"
   ]
  },
  {
   "cell_type": "code",
   "execution_count": null,
   "metadata": {},
   "outputs": [],
   "source": []
  }
 ],
 "metadata": {
  "kernelspec": {
   "display_name": "Python 3",
   "language": "python",
   "name": "python3"
  },
  "language_info": {
   "codemirror_mode": {
    "name": "ipython",
    "version": 3
   },
   "file_extension": ".py",
   "mimetype": "text/x-python",
   "name": "python",
   "nbconvert_exporter": "python",
   "pygments_lexer": "ipython3",
   "version": "3.7.7"
  }
 },
 "nbformat": 4,
 "nbformat_minor": 4
}
