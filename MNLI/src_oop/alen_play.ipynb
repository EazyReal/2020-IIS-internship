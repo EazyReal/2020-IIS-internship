{
 "cells": [
  {
   "cell_type": "markdown",
   "metadata": {},
   "source": [
    "# Allen NLP playground\n",
    "- for better understanding of the process"
   ]
  },
  {
   "cell_type": "code",
   "execution_count": 49,
   "metadata": {},
   "outputs": [],
   "source": [
    "%load_ext autoreload\n",
    "%autoreload 2\n"
   ]
  },
  {
   "cell_type": "code",
   "execution_count": 29,
   "metadata": {},
   "outputs": [],
   "source": [
    "from collections import Counter, defaultdict\n",
    "\n",
    "\n",
    "from allennlp.data.fields import TextField, LabelField, SequenceLabelField\n",
    "from allennlp.data.token_indexers import SingleIdTokenIndexer\n",
    "from allennlp.data.tokenizers import Token\n",
    "from allennlp.data.vocabulary import Vocabulary\n",
    "from allennlp.data.dataset_readers import DatasetReader\n",
    "from allennlp.data.instance import Instance\n",
    "\n",
    "from typing import Iterable"
   ]
  },
  {
   "cell_type": "code",
   "execution_count": 30,
   "metadata": {},
   "outputs": [],
   "source": [
    "@DatasetReader.register('classification-tsv')\n",
    "class ClassificationTsvReader(DatasetReader):\n",
    "    def __init__(self):\n",
    "        self.tokenizer = SpacyTokenizer()\n",
    "        self.token_indexers = {'tokens': SingleIdTokenIndexer()}\n",
    "\n",
    "    def _read(self, file_path: str) -> Iterable[Instance]:\n",
    "        with open(file_path, 'r') as lines:\n",
    "            for line in lines:\n",
    "                text, label = line.strip().split('\\t')\n",
    "                text_field = TextField(self.tokenizer.tokenize(text),\n",
    "                                       self.token_indexers)\n",
    "                label_field = LabelField(label)\n",
    "                fields = {'text': text_field, 'label': label_field}\n",
    "                yield Instance(fields)"
   ]
  },
  {
   "cell_type": "code",
   "execution_count": 13,
   "metadata": {},
   "outputs": [],
   "source": [
    "# To create fields, simply pass the data to constructor.\n",
    "# NOTE: Don't worry about the token_indexers too much for now. We have a whole\n",
    "# chapter on why TextFields are set up this way, and how they work.\n",
    "tokens = [Token('The'), Token('best'), Token('movie'), Token('ever'), Token('!')]\n",
    "token_indexers = {'tokens': SingleIdTokenIndexer()}\n",
    "text_field = TextField(tokens, token_indexers=token_indexers)\n",
    "\n",
    "label_field = LabelField('pos')\n",
    "\n",
    "sequence_label_field = SequenceLabelField(\n",
    "    ['DET', 'ADJ', 'NOUN', 'ADV', 'PUNKT'],\n",
    "    text_field\n",
    ")"
   ]
  },
  {
   "cell_type": "code",
   "execution_count": 14,
   "metadata": {},
   "outputs": [
    {
     "name": "stdout",
     "output_type": "stream",
     "text": [
      "TextField of length 5 with text: \n",
      " \t\t[The, best, movie, ever, !]\n",
      " \t\tand TokenIndexers : {'tokens': 'SingleIdTokenIndexer'}\n",
      "LabelField with label: pos in namespace: 'labels'.'\n",
      "SequenceLabelField of length 5 with labels:\n",
      " \t\t['DET', 'ADJ', 'NOUN', 'ADV', 'PUNKT']\n",
      " \t\tin namespace: 'labels'.\n"
     ]
    }
   ],
   "source": [
    "# You can use print() fields to see their content\n",
    "print(text_field)\n",
    "print(label_field)\n",
    "print(sequence_label_field)"
   ]
  },
  {
   "cell_type": "code",
   "execution_count": 15,
   "metadata": {},
   "outputs": [
    {
     "name": "stdout",
     "output_type": "stream",
     "text": [
      "5\n",
      "<generator object <genexpr> at 0x7fd8ae9bd950>\n",
      "TextField of length 0 with text: \n",
      " \t\t[]\n",
      " \t\tand TokenIndexers : {'tokens': 'SingleIdTokenIndexer'}\n",
      "LabelField with label: -1 in namespace: 'labels'.'\n",
      "SequenceLabelField of length 0 with labels:\n",
      " \t\t[]\n",
      " \t\tin namespace: 'labels'.\n"
     ]
    }
   ],
   "source": [
    "# Many of the fields implement native python methods in intuitive ways\n",
    "print(len(sequence_label_field))\n",
    "print(label for label in sequence_label_field)\n",
    "\n",
    "# Fields know how to create empty fields of the same type\n",
    "print(text_field.empty_field())\n",
    "print(label_field.empty_field())\n",
    "print(sequence_label_field.empty_field())"
   ]
  },
  {
   "cell_type": "code",
   "execution_count": 23,
   "metadata": {},
   "outputs": [
    {
     "name": "stdout",
     "output_type": "stream",
     "text": [
      "defaultdict(<class 'collections.Counter'>, {'tokens': Counter({'The': 1, 'best': 1, 'movie': 1, 'ever': 1, '!': 1})})\n",
      "Counter({'The': 1, 'best': 1, 'movie': 1, 'ever': 1, '!': 1})\n",
      "\n",
      "defaultdict(<class 'collections.Counter'>, {'tokens': Counter({'The': 1, 'best': 1, 'movie': 1, 'ever': 1, '!': 1}), 'labels': Counter({'pos': 1})})\n",
      "\n",
      "defaultdict(<class 'collections.Counter'>, {'tokens': Counter({'The': 1, 'best': 1, 'movie': 1, 'ever': 1, '!': 1}), 'labels': Counter({'pos': 1, 'DET': 1, 'ADJ': 1, 'NOUN': 1, 'ADV': 1, 'PUNKT': 1})})\n"
     ]
    }
   ],
   "source": [
    "# You can count vocabulary items in fields\n",
    "counter = defaultdict(Counter)\n",
    "text_field.count_vocab_items(counter)\n",
    "print(counter)\n",
    "print(counter[\"tokens\"])\n",
    "print()\n",
    "label_field.count_vocab_items(counter)\n",
    "print(counter)\n",
    "print()\n",
    "sequence_label_field.count_vocab_items(counter)\n",
    "print(counter)"
   ]
  },
  {
   "cell_type": "code",
   "execution_count": 11,
   "metadata": {},
   "outputs": [
    {
     "name": "stdout",
     "output_type": "stream",
     "text": [
      "TextField of length 5 with text: \n",
      " \t\t[The, best, movie, ever, !]\n",
      " \t\tand TokenIndexers : {'tokens': 'SingleIdTokenIndexer'}\n",
      "LabelField with label: pos in namespace: 'labels'.'\n",
      "SequenceLabelField of length 5 with labels:\n",
      " \t\t['DET', 'ADJ', 'NOUN', 'ADV', 'PUNKT']\n",
      " \t\tin namespace: 'labels'.\n",
      "5\n",
      "<generator object <genexpr> at 0x7fd766f206d0>\n",
      "TextField of length 0 with text: \n",
      " \t\t[]\n",
      " \t\tand TokenIndexers : {'tokens': 'SingleIdTokenIndexer'}\n",
      "LabelField with label: -1 in namespace: 'labels'.'\n",
      "SequenceLabelField of length 0 with labels:\n",
      " \t\t[]\n",
      " \t\tin namespace: 'labels'.\n",
      "defaultdict(<class 'collections.Counter'>, {'tokens': Counter({'The': 1, 'best': 1, 'movie': 1, 'ever': 1, '!': 1})})\n",
      "defaultdict(<class 'collections.Counter'>, {'tokens': Counter({'The': 1, 'best': 1, 'movie': 1, 'ever': 1, '!': 1}), 'labels': Counter({'pos': 1})})\n",
      "defaultdict(<class 'collections.Counter'>, {'tokens': Counter({'The': 1, 'best': 1, 'movie': 1, 'ever': 1, '!': 1}), 'labels': Counter({'pos': 1, 'DET': 1, 'ADJ': 1, 'NOUN': 1, 'ADV': 1, 'PUNKT': 1})})\n",
      "{'tokens': {'tokens': tensor([2, 3, 4, 5, 6])}}\n",
      "tensor(0)\n",
      "tensor([1, 2, 3, 4, 5])\n",
      "tensor([0, 0])\n"
     ]
    }
   ],
   "source": [
    "label_field.count_vocab_items(counter)\n",
    "print(counter)\n",
    "\n",
    "sequence_label_field.count_vocab_items(counter)\n",
    "print(counter)\n",
    "\n",
    "# Create Vocabulary for indexing fields\n",
    "vocab = Vocabulary(counter)\n",
    "\n",
    "# Fields know how to turn themselves into tensors\n",
    "text_field.index(vocab)\n",
    "# NOTE: in practice, we will batch together instances and use the maximum padding\n",
    "# lengths, instead of getting them from a single instance.\n",
    "# You can print this if you want to see what the padding_lengths dictionary looks\n",
    "# like, but it can sometimes be a bit cryptic.\n",
    "padding_lengths = text_field.get_padding_lengths()\n",
    "print(text_field.as_tensor(padding_lengths))\n",
    "\n",
    "label_field.index(vocab)\n",
    "print(label_field.as_tensor(label_field.get_padding_lengths()))\n",
    "\n",
    "sequence_label_field.index(vocab)\n",
    "padding_lengths = sequence_label_field.get_padding_lengths()\n",
    "print(sequence_label_field.as_tensor(padding_lengths))\n",
    "\n",
    "# Fields know how to batch tensors\n",
    "tensor1 = label_field.as_tensor(label_field.get_padding_lengths())\n",
    "\n",
    "label_field2 = LabelField('pos')\n",
    "label_field2.index(vocab)\n",
    "tensor2 = label_field2.as_tensor(label_field2.get_padding_lengths())\n",
    "\n",
    "batched_tensors = label_field.batch_tensors([tensor1, tensor2])\n",
    "print(batched_tensors)"
   ]
  },
  {
   "cell_type": "markdown",
   "metadata": {},
   "source": [
    "# Allen Predictors\n",
    "- \"https://storage.googleapis.com/allennlp-public-models/bert-base-srl-2020.03.24.tar.gz\"\n",
    "- \"https://storage.googleapis.com/allennlp-public-models/biaffine-dependency-parser-ptb-2020.04.06.tar.gz\"\n",
    "- \"https://storage.googleapis.com/allennlp-public-models/biaffine-dependency-parser-ud-2020.02.10.tar.gz\"\n",
    "- https://hal.archives-ouvertes.fr/hal-02786193/document\n",
    "    - ud vs ptb"
   ]
  },
  {
   "cell_type": "code",
   "execution_count": 1,
   "metadata": {},
   "outputs": [],
   "source": [
    "from allennlp.predictors.predictor import Predictor #"
   ]
  },
  {
   "cell_type": "code",
   "execution_count": 3,
   "metadata": {},
   "outputs": [],
   "source": [
    "predictor_srl = Predictor.from_path(\"https://storage.googleapis.com/allennlp-public-models/bert-base-srl-2020.03.24.tar.gz\")"
   ]
  },
  {
   "cell_type": "code",
   "execution_count": 7,
   "metadata": {},
   "outputs": [
    {
     "data": {
      "text/plain": [
       "dict"
      ]
     },
     "execution_count": 7,
     "metadata": {},
     "output_type": "execute_result"
    }
   ],
   "source": [
    "type(predictor_srl.predict(\n",
    "  sentence=\"Everyone thinks the news that is good enough will be released\"\n",
    "))"
   ]
  },
  {
   "cell_type": "code",
   "execution_count": 10,
   "metadata": {},
   "outputs": [
    {
     "name": "stderr",
     "output_type": "stream",
     "text": [
      "Did not use initialization regex that was passed: .*projection.*weight\n",
      "Did not use initialization regex that was passed: .*bias_hh.*\n",
      "Did not use initialization regex that was passed: .*weight_ih.*\n",
      "Did not use initialization regex that was passed: .*weight_hh.*\n",
      "Did not use initialization regex that was passed: .*bias_ih.*\n",
      "Did not use initialization regex that was passed: .*projection.*bias\n"
     ]
    }
   ],
   "source": [
    "predictor_dep = Predictor.from_path(\"https://storage.googleapis.com/allennlp-public-models/biaffine-dependency-parser-ptb-2020.04.06.tar.gz\")"
   ]
  },
  {
   "cell_type": "code",
   "execution_count": 13,
   "metadata": {},
   "outputs": [
    {
     "data": {
      "text/plain": [
       "{'arc_loss': 0.13308210670948029,\n",
       " 'tag_loss': 0.16934286057949066,\n",
       " 'loss': 0.30242496728897095,\n",
       " 'words': ['Everyone',\n",
       "  'thinks',\n",
       "  'the',\n",
       "  'news',\n",
       "  'that',\n",
       "  'is',\n",
       "  'good',\n",
       "  'enough',\n",
       "  'will',\n",
       "  'be',\n",
       "  'released'],\n",
       " 'pos': ['PRON',\n",
       "  'VERB',\n",
       "  'DET',\n",
       "  'NOUN',\n",
       "  'DET',\n",
       "  'AUX',\n",
       "  'ADJ',\n",
       "  'ADV',\n",
       "  'VERB',\n",
       "  'AUX',\n",
       "  'VERB'],\n",
       " 'predicted_dependencies': ['nsubj',\n",
       "  'root',\n",
       "  'det',\n",
       "  'dobj',\n",
       "  'nsubj',\n",
       "  'cop',\n",
       "  'ccomp',\n",
       "  'advmod',\n",
       "  'aux',\n",
       "  'auxpass',\n",
       "  'ccomp'],\n",
       " 'predicted_heads': [2, 0, 4, 2, 7, 7, 4, 7, 11, 11, 7],\n",
       " 'hierplane_tree': {'text': 'Everyone thinks the news that is good enough will be released',\n",
       "  'root': {'word': 'thinks',\n",
       "   'nodeType': 'root',\n",
       "   'attributes': ['VERB'],\n",
       "   'link': 'root',\n",
       "   'spans': [{'start': 9, 'end': 16}],\n",
       "   'children': [{'word': 'Everyone',\n",
       "     'nodeType': 'nsubj',\n",
       "     'attributes': ['PRON'],\n",
       "     'link': 'nsubj',\n",
       "     'spans': [{'start': 0, 'end': 9}]},\n",
       "    {'word': 'news',\n",
       "     'nodeType': 'dobj',\n",
       "     'attributes': ['NOUN'],\n",
       "     'link': 'dobj',\n",
       "     'spans': [{'start': 20, 'end': 25}],\n",
       "     'children': [{'word': 'the',\n",
       "       'nodeType': 'det',\n",
       "       'attributes': ['DET'],\n",
       "       'link': 'det',\n",
       "       'spans': [{'start': 16, 'end': 20}]},\n",
       "      {'word': 'good',\n",
       "       'nodeType': 'ccomp',\n",
       "       'attributes': ['ADJ'],\n",
       "       'link': 'ccomp',\n",
       "       'spans': [{'start': 33, 'end': 38}],\n",
       "       'children': [{'word': 'that',\n",
       "         'nodeType': 'nsubj',\n",
       "         'attributes': ['DET'],\n",
       "         'link': 'nsubj',\n",
       "         'spans': [{'start': 25, 'end': 30}]},\n",
       "        {'word': 'is',\n",
       "         'nodeType': 'cop',\n",
       "         'attributes': ['AUX'],\n",
       "         'link': 'cop',\n",
       "         'spans': [{'start': 30, 'end': 33}]},\n",
       "        {'word': 'enough',\n",
       "         'nodeType': 'advmod',\n",
       "         'attributes': ['ADV'],\n",
       "         'link': 'advmod',\n",
       "         'spans': [{'start': 38, 'end': 45}]},\n",
       "        {'word': 'released',\n",
       "         'nodeType': 'ccomp',\n",
       "         'attributes': ['VERB'],\n",
       "         'link': 'ccomp',\n",
       "         'spans': [{'start': 53, 'end': 62}],\n",
       "         'children': [{'word': 'will',\n",
       "           'nodeType': 'aux',\n",
       "           'attributes': ['VERB'],\n",
       "           'link': 'aux',\n",
       "           'spans': [{'start': 45, 'end': 50}]},\n",
       "          {'word': 'be',\n",
       "           'nodeType': 'auxpass',\n",
       "           'attributes': ['AUX'],\n",
       "           'link': 'auxpass',\n",
       "           'spans': [{'start': 50, 'end': 53}]}]}]}]}]},\n",
       "  'nodeTypeToStyle': {'root': ['color5', 'strong'],\n",
       "   'dep': ['color5', 'strong'],\n",
       "   'nsubj': ['color1'],\n",
       "   'nsubjpass': ['color1'],\n",
       "   'csubj': ['color1'],\n",
       "   'csubjpass': ['color1'],\n",
       "   'pobj': ['color2'],\n",
       "   'dobj': ['color2'],\n",
       "   'iobj': ['color2'],\n",
       "   'mark': ['color2'],\n",
       "   'pcomp': ['color2'],\n",
       "   'xcomp': ['color2'],\n",
       "   'ccomp': ['color2'],\n",
       "   'acomp': ['color2'],\n",
       "   'aux': ['color3'],\n",
       "   'cop': ['color3'],\n",
       "   'det': ['color3'],\n",
       "   'conj': ['color3'],\n",
       "   'cc': ['color3'],\n",
       "   'prep': ['color3'],\n",
       "   'number': ['color3'],\n",
       "   'possesive': ['color3'],\n",
       "   'poss': ['color3'],\n",
       "   'discourse': ['color3'],\n",
       "   'expletive': ['color3'],\n",
       "   'prt': ['color3'],\n",
       "   'advcl': ['color3'],\n",
       "   'mod': ['color4'],\n",
       "   'amod': ['color4'],\n",
       "   'tmod': ['color4'],\n",
       "   'quantmod': ['color4'],\n",
       "   'npadvmod': ['color4'],\n",
       "   'infmod': ['color4'],\n",
       "   'advmod': ['color4'],\n",
       "   'appos': ['color4'],\n",
       "   'nn': ['color4'],\n",
       "   'neg': ['color0'],\n",
       "   'punct': ['color0']},\n",
       "  'linkToPosition': {'nsubj': 'left',\n",
       "   'nsubjpass': 'left',\n",
       "   'csubj': 'left',\n",
       "   'csubjpass': 'left',\n",
       "   'pobj': 'right',\n",
       "   'dobj': 'right',\n",
       "   'iobj': 'right',\n",
       "   'pcomp': 'right',\n",
       "   'xcomp': 'right',\n",
       "   'ccomp': 'right',\n",
       "   'acomp': 'right'}}}"
      ]
     },
     "execution_count": 13,
     "metadata": {},
     "output_type": "execute_result"
    }
   ],
   "source": [
    "predictor_dep.predict(\n",
    "  sentence=\"Everyone thinks the news that is good enough will be released\"\n",
    ")"
   ]
  },
  {
   "cell_type": "code",
   "execution_count": 18,
   "metadata": {},
   "outputs": [
    {
     "data": {
      "text/plain": [
       "['I', \"'ve\", 'been', 'deta', \"'s\", 'sd', 'bsefore']"
      ]
     },
     "execution_count": 18,
     "metadata": {},
     "output_type": "execute_result"
    }
   ],
   "source": [
    "predictor_dep.predict(\n",
    "  sentence=\"I've been deta's sd bsefore\"\n",
    ")[\"words\"]"
   ]
  },
  {
   "cell_type": "code",
   "execution_count": 20,
   "metadata": {},
   "outputs": [
    {
     "data": {
      "text/plain": [
       "['I', \"'ve\", 'been', 'deta', \"'s\", 'sd', 'besfore']"
      ]
     },
     "execution_count": 20,
     "metadata": {},
     "output_type": "execute_result"
    }
   ],
   "source": [
    "predictor_srl.predict(\n",
    "  sentence=\"I've been deta's sd besfore\"\n",
    ")[\"words\"]"
   ]
  },
  {
   "cell_type": "code",
   "execution_count": 73,
   "metadata": {},
   "outputs": [],
   "source": [
    "import do_parse\n",
    "import config"
   ]
  },
  {
   "cell_type": "code",
   "execution_count": 74,
   "metadata": {},
   "outputs": [
    {
     "data": {
      "text/plain": [
       "allennlp_models.structured_prediction.predictors.srl.SemanticRoleLabelerPredictor"
      ]
     },
     "execution_count": 74,
     "metadata": {},
     "output_type": "execute_result"
    }
   ],
   "source": [
    "type(predictor_srl)"
   ]
  },
  {
   "cell_type": "code",
   "execution_count": 75,
   "metadata": {},
   "outputs": [
    {
     "data": {
      "text/plain": [
       "allennlp_models.structured_prediction.predictors.biaffine_dependency_parser.BiaffineDependencyParserPredictor"
      ]
     },
     "execution_count": 75,
     "metadata": {},
     "output_type": "execute_result"
    }
   ],
   "source": [
    "type(predictor_dep)"
   ]
  },
  {
   "cell_type": "code",
   "execution_count": 76,
   "metadata": {},
   "outputs": [
    {
     "name": "stderr",
     "output_type": "stream",
     "text": [
      "  0%|          | 0/10 [00:00<?, ?it/s]"
     ]
    },
    {
     "name": "stdout",
     "output_type": "stream",
     "text": [
      "creating file /work/2020-IIS-NLU-internship/MNLI/data/MNLI_allen/pre_multinli_1.0_train.jsonl to save result\n",
      "executing\n"
     ]
    },
    {
     "name": "stderr",
     "output_type": "stream",
     "text": [
      "100%|██████████| 10/10 [00:04<00:00,  2.23it/s]\n"
     ]
    }
   ],
   "source": [
    "test10 = do_parse.process_file(data_file=config.TRAIN_FILE,\n",
    "                      target_file=config.P_TRAIN_FILE,\n",
    "                      srl_labeler_model=predictor_srl,\n",
    "                      dep_parser_model=predictor_dep,\n",
    "                      function_test=True,\n",
    "                      force_exe=True)"
   ]
  },
  {
   "cell_type": "code",
   "execution_count": 77,
   "metadata": {},
   "outputs": [
    {
     "data": {
      "text/plain": [
       "{'arc_loss': 0.48571792244911194,\n",
       " 'tag_loss': 0.4315148890018463,\n",
       " 'loss': 0.9172328114509583,\n",
       " 'words': ['Product',\n",
       "  'and',\n",
       "  'geography',\n",
       "  'are',\n",
       "  'what',\n",
       "  'make',\n",
       "  'cream',\n",
       "  'skimming',\n",
       "  'work',\n",
       "  '.'],\n",
       " 'pos': ['NOUN',\n",
       "  'CCONJ',\n",
       "  'NOUN',\n",
       "  'AUX',\n",
       "  'PRON',\n",
       "  'VERB',\n",
       "  'NOUN',\n",
       "  'VERB',\n",
       "  'NOUN',\n",
       "  'PUNCT'],\n",
       " 'predicted_dependencies': ['nsubj',\n",
       "  'prep',\n",
       "  'dobj',\n",
       "  'root',\n",
       "  'nsubj',\n",
       "  'ccomp',\n",
       "  'nn',\n",
       "  'nsubj',\n",
       "  'xcomp',\n",
       "  'dep'],\n",
       " 'predicted_heads': [4, 1, 1, 0, 6, 4, 8, 9, 6, 4],\n",
       " 'hierplane_tree': {'text': 'Product and geography are what make cream skimming work .',\n",
       "  'root': {'word': 'are',\n",
       "   'nodeType': 'root',\n",
       "   'attributes': ['AUX'],\n",
       "   'link': 'root',\n",
       "   'spans': [{'start': 22, 'end': 26}],\n",
       "   'children': [{'word': 'Product',\n",
       "     'nodeType': 'nsubj',\n",
       "     'attributes': ['NOUN'],\n",
       "     'link': 'nsubj',\n",
       "     'spans': [{'start': 0, 'end': 8}],\n",
       "     'children': [{'word': 'and',\n",
       "       'nodeType': 'prep',\n",
       "       'attributes': ['CCONJ'],\n",
       "       'link': 'prep',\n",
       "       'spans': [{'start': 8, 'end': 12}]},\n",
       "      {'word': 'geography',\n",
       "       'nodeType': 'dobj',\n",
       "       'attributes': ['NOUN'],\n",
       "       'link': 'dobj',\n",
       "       'spans': [{'start': 12, 'end': 22}]}]},\n",
       "    {'word': 'make',\n",
       "     'nodeType': 'ccomp',\n",
       "     'attributes': ['VERB'],\n",
       "     'link': 'ccomp',\n",
       "     'spans': [{'start': 31, 'end': 36}],\n",
       "     'children': [{'word': 'what',\n",
       "       'nodeType': 'nsubj',\n",
       "       'attributes': ['PRON'],\n",
       "       'link': 'nsubj',\n",
       "       'spans': [{'start': 26, 'end': 31}]},\n",
       "      {'word': 'work',\n",
       "       'nodeType': 'xcomp',\n",
       "       'attributes': ['NOUN'],\n",
       "       'link': 'xcomp',\n",
       "       'spans': [{'start': 51, 'end': 56}],\n",
       "       'children': [{'word': 'skimming',\n",
       "         'nodeType': 'nsubj',\n",
       "         'attributes': ['VERB'],\n",
       "         'link': 'nsubj',\n",
       "         'spans': [{'start': 42, 'end': 51}],\n",
       "         'children': [{'word': 'cream',\n",
       "           'nodeType': 'nn',\n",
       "           'attributes': ['NOUN'],\n",
       "           'link': 'nn',\n",
       "           'spans': [{'start': 36, 'end': 42}]}]}]}]},\n",
       "    {'word': '.',\n",
       "     'nodeType': 'dep',\n",
       "     'attributes': ['PUNCT'],\n",
       "     'link': 'dep',\n",
       "     'spans': [{'start': 56, 'end': 58}]}]},\n",
       "  'nodeTypeToStyle': {'root': ['color5', 'strong'],\n",
       "   'dep': ['color5', 'strong'],\n",
       "   'nsubj': ['color1'],\n",
       "   'nsubjpass': ['color1'],\n",
       "   'csubj': ['color1'],\n",
       "   'csubjpass': ['color1'],\n",
       "   'pobj': ['color2'],\n",
       "   'dobj': ['color2'],\n",
       "   'iobj': ['color2'],\n",
       "   'mark': ['color2'],\n",
       "   'pcomp': ['color2'],\n",
       "   'xcomp': ['color2'],\n",
       "   'ccomp': ['color2'],\n",
       "   'acomp': ['color2'],\n",
       "   'aux': ['color3'],\n",
       "   'cop': ['color3'],\n",
       "   'det': ['color3'],\n",
       "   'conj': ['color3'],\n",
       "   'cc': ['color3'],\n",
       "   'prep': ['color3'],\n",
       "   'number': ['color3'],\n",
       "   'possesive': ['color3'],\n",
       "   'poss': ['color3'],\n",
       "   'discourse': ['color3'],\n",
       "   'expletive': ['color3'],\n",
       "   'prt': ['color3'],\n",
       "   'advcl': ['color3'],\n",
       "   'mod': ['color4'],\n",
       "   'amod': ['color4'],\n",
       "   'tmod': ['color4'],\n",
       "   'quantmod': ['color4'],\n",
       "   'npadvmod': ['color4'],\n",
       "   'infmod': ['color4'],\n",
       "   'advmod': ['color4'],\n",
       "   'appos': ['color4'],\n",
       "   'nn': ['color4'],\n",
       "   'neg': ['color0'],\n",
       "   'punct': ['color0']},\n",
       "  'linkToPosition': {'nsubj': 'left',\n",
       "   'nsubjpass': 'left',\n",
       "   'csubj': 'left',\n",
       "   'csubjpass': 'left',\n",
       "   'pobj': 'right',\n",
       "   'dobj': 'right',\n",
       "   'iobj': 'right',\n",
       "   'pcomp': 'right',\n",
       "   'xcomp': 'right',\n",
       "   'ccomp': 'right',\n",
       "   'acomp': 'right'}}}"
      ]
     },
     "execution_count": 77,
     "metadata": {},
     "output_type": "execute_result"
    }
   ],
   "source": [
    "test10[0][config.hf][\"dep\"]"
   ]
  },
  {
   "cell_type": "code",
   "execution_count": 78,
   "metadata": {},
   "outputs": [
    {
     "name": "stdout",
     "output_type": "stream",
     "text": [
      "{\"annotator_labels\": [\"neutral\"], \"genre\": \"government\", \"gold_label\": \"neutral\", \"pairID\": \"31193n\", \"promptID\": \"31193\", \"sentence1\": \"Conceptually cream skimming has two basic dimensions - product and geography.\", \"sentence1_binary_parse\": \"( ( Conceptually ( cream skimming ) ) ( ( has ( ( ( two ( basic dimensions ) ) - ) ( ( product and ) geography ) ) ) . ) )\", \"sentence1_parse\": \"(ROOT (S (NP (JJ Conceptually) (NN cream) (NN skimming)) (VP (VBZ has) (NP (NP (CD two) (JJ basic) (NNS dimensions)) (: -) (NP (NN product) (CC and) (NN geography)))) (. .)))\", \"sentence2\": \"Product and geography are what make cream skimming work. \", \"sentence2_binary_parse\": \"( ( ( Product and ) geography ) ( ( are ( what ( make ( cream ( skimming work ) ) ) ) ) . ) )\", \"sentence2_parse\": \"(ROOT (S (NP (NN Product) (CC and) (NN geography)) (VP (VBP are) (SBAR (WHNP (WP what)) (S (VP (VBP make) (NP (NP (NN cream)) (VP (VBG skimming) (NP (NN work)))))))) (. .)))\"}\n",
      "\n"
     ]
    }
   ],
   "source": [
    "with open(config.TRAIN_FILE) as fo:\n",
    "    line = fo.readline()\n",
    "    print(line)"
   ]
  },
  {
   "cell_type": "code",
   "execution_count": 80,
   "metadata": {},
   "outputs": [
    {
     "name": "stderr",
     "output_type": "stream",
     "text": [
      "  0%|          | 0/10 [00:00<?, ?it/s]"
     ]
    },
    {
     "name": "stdout",
     "output_type": "stream",
     "text": [
      "creating file /work/2020-IIS-NLU-internship/MNLI/data/MNLI_allen/for_development.jsonl to save result\n",
      "executing\n"
     ]
    },
    {
     "name": "stderr",
     "output_type": "stream",
     "text": [
      "100%|██████████| 10/10 [00:05<00:00,  1.99it/s]\n"
     ]
    }
   ],
   "source": [
    "test10 = do_parse.process_file(data_file=config.TRAIN_FILE,\n",
    "                      target_file=config.P_DEVELOPMENT_FILE,\n",
    "                      srl_labeler_model=predictor_srl,\n",
    "                      dep_parser_model=predictor_dep,\n",
    "                      function_test=True,\n",
    "                      force_exe=False)"
   ]
  },
  {
   "cell_type": "code",
   "execution_count": 82,
   "metadata": {},
   "outputs": [
    {
     "name": "stderr",
     "output_type": "stream",
     "text": [
      "2020-08-10 13:40:52 WARNING: Did not use initialization regex that was passed: .*projection.*weight\n",
      "2020-08-10 13:40:52 WARNING: Did not use initialization regex that was passed: .*bias_hh.*\n",
      "2020-08-10 13:40:52 WARNING: Did not use initialization regex that was passed: .*weight_ih.*\n",
      "2020-08-10 13:40:52 WARNING: Did not use initialization regex that was passed: .*weight_hh.*\n",
      "2020-08-10 13:40:52 WARNING: Did not use initialization regex that was passed: .*bias_ih.*\n",
      "2020-08-10 13:40:52 WARNING: Did not use initialization regex that was passed: .*projection.*bias\n"
     ]
    }
   ],
   "source": [
    "srl_gpu = Predictor.from_path(\"https://storage.googleapis.com/allennlp-public-models/bert-base-srl-2020.03.24.tar.gz\", cuda_device=0)\n",
    "dep_gpu = Predictor.from_path(config.DEP_PARSER_MODEL, cuda_device=0)"
   ]
  },
  {
   "cell_type": "code",
   "execution_count": 83,
   "metadata": {},
   "outputs": [
    {
     "name": "stderr",
     "output_type": "stream",
     "text": [
      "  0%|          | 0/10 [00:00<?, ?it/s]"
     ]
    },
    {
     "name": "stdout",
     "output_type": "stream",
     "text": [
      "creating file /work/2020-IIS-NLU-internship/MNLI/data/MNLI_allen/for_development.jsonl to save result\n",
      "executing\n"
     ]
    },
    {
     "name": "stderr",
     "output_type": "stream",
     "text": [
      "100%|██████████| 10/10 [00:03<00:00,  2.85it/s]\n"
     ]
    }
   ],
   "source": [
    "test10 = do_parse.process_file(data_file=config.TRAIN_FILE,\n",
    "                      target_file=config.P_DEVELOPMENT_FILE,\n",
    "                      srl_labeler_model=srl_gpu,\n",
    "                      dep_parser_model=dep_gpu,\n",
    "                      function_test=True,\n",
    "                      force_exe=True)"
   ]
  },
  {
   "cell_type": "code",
   "execution_count": 111,
   "metadata": {},
   "outputs": [],
   "source": [
    "exp = \"Allen uses a pen. And Jack uses a pencil made in China\""
   ]
  },
  {
   "cell_type": "code",
   "execution_count": 112,
   "metadata": {},
   "outputs": [],
   "source": [
    "doc = dep_gpu.predict(sentence=exp)"
   ]
  },
  {
   "cell_type": "code",
   "execution_count": 113,
   "metadata": {},
   "outputs": [
    {
     "data": {
      "text/plain": [
       "dict_keys(['arc_loss', 'tag_loss', 'loss', 'words', 'pos', 'predicted_dependencies', 'predicted_heads', 'hierplane_tree'])"
      ]
     },
     "execution_count": 113,
     "metadata": {},
     "output_type": "execute_result"
    }
   ],
   "source": [
    "doc.keys()"
   ]
  },
  {
   "cell_type": "code",
   "execution_count": 114,
   "metadata": {},
   "outputs": [
    {
     "data": {
      "text/plain": [
       "13"
      ]
     },
     "execution_count": 114,
     "metadata": {},
     "output_type": "execute_result"
    }
   ],
   "source": [
    "len(doc[\"predicted_dependencies\"])"
   ]
  },
  {
   "cell_type": "code",
   "execution_count": 115,
   "metadata": {},
   "outputs": [
    {
     "data": {
      "text/plain": [
       "13"
      ]
     },
     "execution_count": 115,
     "metadata": {},
     "output_type": "execute_result"
    }
   ],
   "source": [
    "len(doc[\"predicted_heads\"])"
   ]
  },
  {
   "cell_type": "code",
   "execution_count": 116,
   "metadata": {},
   "outputs": [
    {
     "data": {
      "text/plain": [
       "13"
      ]
     },
     "execution_count": 116,
     "metadata": {},
     "output_type": "execute_result"
    }
   ],
   "source": [
    "len(doc[\"words\"])"
   ]
  },
  {
   "cell_type": "code",
   "execution_count": 143,
   "metadata": {},
   "outputs": [],
   "source": [
    "import utils"
   ]
  },
  {
   "cell_type": "code",
   "execution_count": 146,
   "metadata": {},
   "outputs": [
    {
     "data": {
      "text/plain": [
       "Data(edge_attr=[13], edge_index=[2, 13], node_attr=[14], x=[13])"
      ]
     },
     "execution_count": 146,
     "metadata": {},
     "output_type": "execute_result"
    }
   ],
   "source": [
    "utils.doc2graph_allennlp(doc)"
   ]
  },
  {
   "cell_type": "code",
   "execution_count": 147,
   "metadata": {},
   "outputs": [],
   "source": [
    "G = utils.text2graph_allennlp(exp, predictor_dep)"
   ]
  },
  {
   "cell_type": "code",
   "execution_count": 148,
   "metadata": {},
   "outputs": [
    {
     "name": "stdout",
     "output_type": "stream",
     "text": [
      "[0, 1, 2, 3, 4, 5, 6, 7, 8, 9, 10, 11, 12, 13]\n",
      "[(1, 2), (2, 0), (3, 4), (4, 5), (5, 2), (6, 2), (7, 8), (8, 6), (9, 10), (10, 8), (11, 10), (12, 11), (13, 12)]\n"
     ]
    },
    {
     "data": {
      "image/png": "[encoded data removed]",
      "text/plain": [
       "<Figure size 432x288 with 1 Axes>"
      ]
     },
     "metadata": {},
     "output_type": "display_data"
    }
   ],
   "source": [
    "utils.draw(G, save_img_file=\"allennlp_fail_sentences\")"
   ]
  },
  {
   "cell_type": "code",
   "execution_count": 149,
   "metadata": {},
   "outputs": [],
   "source": [
    "anli_exp = \"Eme 15 is the self-titled debut studio album by Mexican-Argentine pop band, Eme 15. The album was released in Mexico and Latin America on June 26, 2012 through Warner Music M\\u00e9xico, and features songs from the Nickelodeon Latin America and Televisa musical television series, Miss XV.\""
   ]
  },
  {
   "cell_type": "code",
   "execution_count": 170,
   "metadata": {},
   "outputs": [],
   "source": [
    "g1 = utils.text2graph(anli_exp, parser=predictor_dep, parser_name=\"allennlp\")"
   ]
  },
  {
   "cell_type": "code",
   "execution_count": 171,
   "metadata": {},
   "outputs": [
    {
     "name": "stdout",
     "output_type": "stream",
     "text": [
      "[0, 1, 2, 3, 4, 5, 6, 7, 8, 9, 10, 11, 12, 13, 14, 15, 16, 17, 18, 19, 20, 21, 22, 23, 24, 25, 26, 27, 28, 29, 30, 31, 32, 33, 34, 35, 36, 37, 38, 39, 40, 41, 42, 43, 44, 45, 46, 47, 48, 49, 50, 51, 52, 53, 54, 55, 56]\n",
      "[(1, 3), (2, 1), (3, 0), (4, 9), (5, 9), (6, 9), (7, 9), (8, 9), (9, 3), (10, 3), (11, 10), (12, 11), (13, 12), (14, 12), (15, 12), (16, 12), (17, 12), (18, 17), (19, 20), (20, 22), (21, 22), (22, 17), (23, 24), (24, 17), (25, 24), (26, 25), (27, 26), (28, 26), (29, 25), (30, 24), (31, 30), (32, 31), (33, 24), (34, 24), (35, 34), (36, 37), (37, 35), (38, 35), (39, 34), (40, 39), (41, 39), (42, 41), (43, 42), (44, 52), (45, 52), (46, 47), (47, 52), (48, 52), (49, 52), (50, 52), (51, 52), (52, 43), (53, 52), (54, 55), (55, 53), (56, 54)]\n"
     ]
    },
    {
     "data": {
      "image/png": "[encoded data removed]",
      "text/plain": [
       "<Figure size 432x288 with 1 Axes>"
      ]
     },
     "metadata": {},
     "output_type": "display_data"
    }
   ],
   "source": [
    "utils.draw(g1, node_size=100, save_img_file=\"allennlp-parser-anli-exp.png\")"
   ]
  },
  {
   "cell_type": "code",
   "execution_count": 151,
   "metadata": {},
   "outputs": [],
   "source": [
    "import stanza\n",
    "from stanza.models.common.doc import Document"
   ]
  },
  {
   "cell_type": "code",
   "execution_count": 152,
   "metadata": {},
   "outputs": [
    {
     "name": "stderr",
     "output_type": "stream",
     "text": [
      "2020-08-10 15:45:08 WARNING: Can not find mwt: default from official model list. Ignoring it.\n",
      "2020-08-10 15:45:08 INFO: Loading these models for language: en (English):\n",
      "=======================\n",
      "| Processor | Package |\n",
      "-----------------------\n",
      "| tokenize  | ewt     |\n",
      "| pos       | ewt     |\n",
      "| lemma     | ewt     |\n",
      "| depparse  | ewt     |\n",
      "=======================\n",
      "\n",
      "2020-08-10 15:45:08 INFO: Use device: gpu\n",
      "2020-08-10 15:45:08 INFO: Loading: tokenize\n",
      "2020-08-10 15:45:08 INFO: Loading: pos\n",
      "2020-08-10 15:45:09 INFO: Loading: lemma\n",
      "2020-08-10 15:45:09 INFO: Loading: depparse\n",
      "2020-08-10 15:45:11 INFO: Done loading processors!\n"
     ]
    }
   ],
   "source": [
    "nlp = stanza.Pipeline(lang='en', processors='tokenize,mwt,pos,lemma,depparse')"
   ]
  },
  {
   "cell_type": "code",
   "execution_count": 153,
   "metadata": {},
   "outputs": [
    {
     "data": {
      "text/plain": [
       "stanza.pipeline.core.Pipeline"
      ]
     },
     "execution_count": 153,
     "metadata": {},
     "output_type": "execute_result"
    }
   ],
   "source": [
    "type(nlp)"
   ]
  },
  {
   "cell_type": "code",
   "execution_count": 168,
   "metadata": {},
   "outputs": [],
   "source": [
    "g2 = utils.text2graph(anli_exp, parser=nlp, parser_name=\"Stanza\")"
   ]
  },
  {
   "cell_type": "code",
   "execution_count": 169,
   "metadata": {},
   "outputs": [
    {
     "name": "stdout",
     "output_type": "stream",
     "text": [
      "[0, 1, 2, 3, 4, 5, 6, 7, 8, 9, 10, 11, 12, 13, 14, 15, 16, 17, 18, 19, 20, 21, 22, 23, 24, 25, 26, 27, 28, 29, 30, 31, 32, 33, 34, 35, 36, 37, 38, 39, 40, 41, 42, 43, 44, 45, 46, 47, 48, 49, 50, 51, 52, 53, 54, 55, 56, 57]\n",
      "[(0, 10), (0, 21), (1, 2), (7, 5), (7, 6), (9, 8), (10, 1), (10, 3), (10, 4), (10, 7), (10, 9), (10, 16), (10, 20), (14, 12), (14, 13), (16, 11), (16, 14), (16, 15), (16, 17), (16, 18), (18, 19), (21, 25), (23, 22), (25, 23), (25, 24), (25, 27), (25, 32), (25, 39), (25, 42), (25, 57), (27, 26), (27, 30), (30, 28), (30, 29), (32, 31), (32, 33), (32, 34), (32, 35), (39, 36), (39, 37), (39, 38), (42, 40), (42, 41), (42, 43), (43, 48), (48, 44), (48, 45), (48, 46), (48, 47), (48, 53), (53, 49), (53, 50), (53, 51), (53, 52), (53, 54), (53, 56), (56, 55)]\n"
     ]
    },
    {
     "data": {
      "image/png": "[encoded data removed]",
      "text/plain": [
       "<Figure size 432x288 with 1 Axes>"
      ]
     },
     "metadata": {},
     "output_type": "display_data"
    }
   ],
   "source": [
    "utils.draw(g2, node_size=100, save_img_file=\"stanza-parser-anli-exp.png\")"
   ]
  },
  {
   "cell_type": "code",
   "execution_count": null,
   "metadata": {},
   "outputs": [],
   "source": []
  }
 ],
 "metadata": {
  "kernelspec": {
   "display_name": "Python 3",
   "language": "python",
   "name": "python3"
  },
  "language_info": {
   "codemirror_mode": {
    "name": "ipython",
    "version": 3
   },
   "file_extension": ".py",
   "mimetype": "text/x-python",
   "name": "python",
   "nbconvert_exporter": "python",
   "pygments_lexer": "ipython3",
   "version": "3.7.7"
  }
 },
 "nbformat": 4,
 "nbformat_minor": 4
}
