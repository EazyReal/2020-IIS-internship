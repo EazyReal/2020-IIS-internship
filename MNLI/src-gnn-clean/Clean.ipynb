{
 "cells": [
  {
   "cell_type": "markdown",
   "metadata": {},
   "source": [
    "# SynNLI Clean Code"
   ]
  },
  {
   "cell_type": "code",
   "execution_count": 2,
   "metadata": {},
   "outputs": [],
   "source": [
    "%load_ext autoreload\n",
    "%autoreload 2"
   ]
  },
  {
   "cell_type": "code",
   "execution_count": 12,
   "metadata": {},
   "outputs": [],
   "source": [
    "import config\n",
    "import utils \n",
    "import data\n",
    "import model\n",
    "\n",
    "import stanza"
   ]
  },
  {
   "cell_type": "markdown",
   "metadata": {},
   "source": [
    "## Load Raw Data, Parse Data, Save Data\n",
    "- dependency parse by Stanza\n",
    "- implicit done tokenize"
   ]
  },
  {
   "cell_type": "code",
   "execution_count": 13,
   "metadata": {},
   "outputs": [
    {
     "name": "stderr",
     "output_type": "stream",
     "text": [
      "Downloading https://raw.githubusercontent.com/stanfordnlp/stanza-resources/master/resources_1.0.0.json: 120kB [00:00, 903kB/s]                     \n",
      "2020-08-07 00:28:32 INFO: Downloading default packages for language: en (English)...\n",
      "2020-08-07 00:28:33 INFO: File exists: /root/stanza_resources/en/default.zip.\n",
      "2020-08-07 00:28:40 INFO: Finished downloading models and saved to /root/stanza_resources.\n"
     ]
    }
   ],
   "source": [
    "stanza.download('en')"
   ]
  },
  {
   "cell_type": "code",
   "execution_count": 15,
   "metadata": {},
   "outputs": [
    {
     "name": "stderr",
     "output_type": "stream",
     "text": [
      "2020-08-07 00:30:03 WARNING: Can not find mwt: default from official model list. Ignoring it.\n",
      "2020-08-07 00:30:03 INFO: Loading these models for language: en (English):\n",
      "=======================\n",
      "| Processor | Package |\n",
      "-----------------------\n",
      "| tokenize  | ewt     |\n",
      "| pos       | ewt     |\n",
      "| lemma     | ewt     |\n",
      "| depparse  | ewt     |\n",
      "=======================\n",
      "\n",
      "2020-08-07 00:30:03 INFO: Use device: cpu\n",
      "2020-08-07 00:30:03 INFO: Loading: tokenize\n",
      "2020-08-07 00:30:03 INFO: Loading: pos\n",
      "2020-08-07 00:30:04 INFO: Loading: lemma\n",
      "2020-08-07 00:30:04 INFO: Loading: depparse\n",
      "2020-08-07 00:30:05 INFO: Done loading processors!\n"
     ]
    }
   ],
   "source": [
    "nlp = stanza.Pipeline(lang='en', processors='tokenize,mwt,pos,lemma,depparse', use_gpu=False)"
   ]
  },
  {
   "cell_type": "code",
   "execution_count": 24,
   "metadata": {},
   "outputs": [
    {
     "name": "stdout",
     "output_type": "stream",
     "text": [
      "{'annotator_labels': ['neutral', 'entailment', 'neutral', 'neutral', 'neutral'], 'genre': 'slate', 'gold_label': 'neutral', 'pairID': '63735n', 'promptID': '63735', 'sentence1': 'The new rights are nice enough', 'sentence1_binary_parse': '( ( The ( new rights ) ) ( are ( nice enough ) ) )', 'sentence1_parse': '(ROOT (S (NP (DT The) (JJ new) (NNS rights)) (VP (VBP are) (ADJP (JJ nice) (RB enough)))))', 'sentence2': 'Everyone really likes the newest benefits ', 'sentence2_binary_parse': '( Everyone ( really ( likes ( the ( newest benefits ) ) ) ) )', 'sentence2_parse': '(ROOT (S (NP (NN Everyone)) (VP (ADVP (RB really)) (VBZ likes) (NP (DT the) (JJS newest) (NNS benefits)))))'}\n"
     ]
    }
   ],
   "source": [
    "raw_data = utils.read_json_data(file_name=config.DEV_MA_FILE)\n",
    "print(raw_data[0])"
   ]
  },
  {
   "cell_type": "markdown",
   "metadata": {},
   "source": [
    "## Load Parsed Data and to Graph Data\n",
    "- edge_attr and node_attr should store edge_type and node_type by text\n",
    "- GraphDataset should build voc and edge_type here\n",
    "- visualize an instance"
   ]
  },
  {
   "cell_type": "code",
   "execution_count": 27,
   "metadata": {},
   "outputs": [
    {
     "name": "stdout",
     "output_type": "stream",
     "text": [
      "file /work/2020-IIS-NLU-internship/MNLI/data/MNLI_Stanza/pre_multinli_1.0_dev_matched.jsonl already exist\n",
      "if u still want to procceed, add force_exe=True in function arg\n",
      "exiting\n",
      "{'pairID': '63735n', 'sentence1': [[{'id': '1', 'text': 'The', 'lemma': 'the', 'upos': 'DET', 'xpos': 'DT', 'feats': 'Definite=Def|PronType=Art', 'head': 3, 'deprel': 'det', 'misc': 'start_char=0|end_char=3'}, {'id': '2', 'text': 'new', 'lemma': 'new', 'upos': 'ADJ', 'xpos': 'JJ', 'feats': 'Degree=Pos', 'head': 3, 'deprel': 'amod', 'misc': 'start_char=4|end_char=7'}, {'id': '3', 'text': 'rights', 'lemma': 'rights', 'upos': 'NOUN', 'xpos': 'NNS', 'feats': 'Number=Plur', 'head': 6, 'deprel': 'nsubj', 'misc': 'start_char=8|end_char=14'}, {'id': '4', 'text': 'are', 'lemma': 'be', 'upos': 'AUX', 'xpos': 'VBP', 'feats': 'Mood=Ind|Tense=Pres|VerbForm=Fin', 'head': 6, 'deprel': 'cop', 'misc': 'start_char=15|end_char=18'}, {'id': '5', 'text': 'nice', 'lemma': 'nice', 'upos': 'ADJ', 'xpos': 'JJ', 'feats': 'Degree=Pos', 'head': 6, 'deprel': 'amod', 'misc': 'start_char=19|end_char=23'}, {'id': '6', 'text': 'enough', 'lemma': 'enough', 'upos': 'ADJ', 'xpos': 'JJ', 'feats': 'Degree=Pos', 'head': 0, 'deprel': 'root', 'misc': 'start_char=24|end_char=30'}]], 'sentence2': [[{'id': '1', 'text': 'Everyone', 'lemma': 'everyone', 'upos': 'PRON', 'xpos': 'NN', 'feats': 'Number=Sing', 'head': 3, 'deprel': 'nsubj', 'misc': 'start_char=0|end_char=8'}, {'id': '2', 'text': 'really', 'lemma': 'really', 'upos': 'ADV', 'xpos': 'RB', 'head': 3, 'deprel': 'advmod', 'misc': 'start_char=9|end_char=15'}, {'id': '3', 'text': 'likes', 'lemma': 'like', 'upos': 'VERB', 'xpos': 'VBZ', 'feats': 'Mood=Ind|Number=Sing|Person=3|Tense=Pres|VerbForm=Fin', 'head': 0, 'deprel': 'root', 'misc': 'start_char=16|end_char=21'}, {'id': '4', 'text': 'the', 'lemma': 'the', 'upos': 'DET', 'xpos': 'DT', 'feats': 'Definite=Def|PronType=Art', 'head': 6, 'deprel': 'det', 'misc': 'start_char=22|end_char=25'}, {'id': '5', 'text': 'newest', 'lemma': 'newest', 'upos': 'ADJ', 'xpos': 'JJS', 'feats': 'Degree=Sup', 'head': 6, 'deprel': 'amod', 'misc': 'start_char=26|end_char=32'}, {'id': '6', 'text': 'benefits', 'lemma': 'benefit', 'upos': 'NOUN', 'xpos': 'NNS', 'feats': 'Number=Plur', 'head': 3, 'deprel': 'obj', 'misc': 'start_char=33|end_char=41'}]], 'gold_label': 1}\n"
     ]
    }
   ],
   "source": [
    "p_data = utils.parse_data(data_file=config.DEV_MA_FILE, target=config.PDEV_MA_FILE, nlp=nlp, function_test=False, force_exe=False)\n",
    "p_data = utils.read_json_data(file_name=config.PDEV_MA_FILE)\n",
    "print(p_data[0])"
   ]
  },
  {
   "cell_type": "code",
   "execution_count": 50,
   "metadata": {},
   "outputs": [
    {
     "name": "stdout",
     "output_type": "stream",
     "text": [
      "63735n\n",
      "[(3, 1, 'nsubj'), (3, 2, 'advmod'), (0, 3, 'root'), (6, 4, 'det'), (6, 5, 'amod'), (3, 6, 'obj')]\n",
      "['[ROOT]', 'Everyone', 'really', 'likes', 'the', 'newest', 'benefits']\n",
      "tensor([[3, 3, 0, 6, 6, 3],\n",
      "        [1, 2, 3, 4, 5, 6]])\n",
      "tensor([[0., 1., 0.]])\n"
     ]
    }
   ],
   "source": [
    "gdata = data.GraphData(p_data[0])\n",
    "gdata.print_self()"
   ]
  },
  {
   "cell_type": "code",
   "execution_count": 37,
   "metadata": {},
   "outputs": [
    {
     "name": "stderr",
     "output_type": "stream",
     "text": [
      "100%|██████████| 9815/9815 [00:19<00:00, 494.47it/s]\n"
     ]
    }
   ],
   "source": [
    "dev_set = data.GraphDataset(data_file=config.PDEV_MA_FILE)"
   ]
  },
  {
   "cell_type": "code",
   "execution_count": 38,
   "metadata": {},
   "outputs": [
    {
     "name": "stdout",
     "output_type": "stream",
     "text": [
      "GraphData(edge_attr_h=[6], edge_attr_p=[6], edge_index_h=[2, 6], edge_index_p=[2, 6], label=[1, 3], node_attr_h=[7], node_attr_p=[7], pid=\"63735n\")\n"
     ]
    }
   ],
   "source": [
    "print(dev_set[0])"
   ]
  },
  {
   "cell_type": "code",
   "execution_count": 58,
   "metadata": {},
   "outputs": [],
   "source": [
    "dev_loader = data.DataLoader(dev_set, batch_size=3, follow_batch=['node_attr_p', 'node_attr_h'])"
   ]
  },
  {
   "cell_type": "code",
   "execution_count": 59,
   "metadata": {},
   "outputs": [
    {
     "name": "stdout",
     "output_type": "stream",
     "text": [
      "['63735n', '91383c', '755e']\n",
      "tensor([[0., 1., 0.],\n",
      "        [1., 0., 0.],\n",
      "        [0., 0., 1.]])\n",
      "[['[ROOT]', 'Everyone', 'really', 'likes', 'the', 'newest', 'benefits'], ['[ROOT]', 'The', 'Government', 'Executive', 'articles', 'housed', 'on', 'the', 'website', 'are', 'not', 'able', 'to', 'be', 'searched', '.'], ['[ROOT]', 'I', 'like', 'him', 'for', 'the', 'most', 'part', ',', 'but', 'would', 'still', 'enjoy', 'seeing', 'someone', 'beat', 'him', '.']]\n",
      "tensor([0, 1, 2])\n",
      "[[[3, 1, 'nsubj'], [3, 2, 'advmod'], [0, 3, 'root'], [6, 4, 'det'], [6, 5, 'amod'], [3, 6, 'obj']], [[4, 1, 'det'], [4, 2, 'compound'], [4, 3, 'amod'], [11, 4, 'nsubj'], [4, 5, 'acl'], [8, 6, 'case'], [8, 7, 'det'], [5, 8, 'obl'], [11, 9, 'cop'], [11, 10, 'advmod'], [0, 11, 'root'], [14, 12, 'mark'], [14, 13, 'aux:pass'], [11, 14, 'xcomp'], [11, 15, 'punct']], [[2, 1, 'nsubj'], [0, 2, 'root'], [2, 3, 'obj'], [7, 4, 'case'], [7, 5, 'det'], [7, 6, 'advmod'], [2, 7, 'obl'], [12, 8, 'punct'], [12, 9, 'cc'], [12, 10, 'aux'], [12, 11, 'advmod'], [2, 12, 'conj'], [12, 13, 'xcomp'], [15, 14, 'nsubj'], [13, 15, 'ccomp'], [15, 16, 'obj'], [2, 17, 'punct']]]\n",
      "tensor([[ 3,  3,  0,  6,  6,  3, 11, 11, 11, 18, 11, 15, 15, 12, 18, 18,  7, 21,\n",
      "         21, 18, 18, 25, 23, 25, 30, 30, 30, 25, 35, 35, 35, 35, 25, 35, 38, 36,\n",
      "         38, 25],\n",
      "        [ 1,  2,  3,  4,  5,  6,  8,  9, 10, 11, 12, 13, 14, 15, 16, 17, 18, 19,\n",
      "         20, 21, 22, 24, 25, 26, 27, 28, 29, 30, 31, 32, 33, 34, 35, 36, 37, 38,\n",
      "         39, 40]])\n"
     ]
    }
   ],
   "source": [
    "test_batch = next(iter(dev_loader))\n",
    "print(test_batch.pid)\n",
    "\n",
    "print(test_batch.label)\n",
    "print(test_batch.node_attr_h)\n",
    "print(test_batch.node_attr_h_batch)\n",
    "print(test_batch.edge_attr_h)\n",
    "print(test_batch.edge_index_h)"
   ]
  },
  {
   "cell_type": "markdown",
   "metadata": {},
   "source": [
    "## Model Testing\n",
    "- feed a batch to model here"
   ]
  },
  {
   "cell_type": "code",
   "execution_count": null,
   "metadata": {},
   "outputs": [],
   "source": [
    "loader = DataLoader(dev_set, batch_size=train_config.batch_size, follow_batch=[])"
   ]
  },
  {
   "cell_type": "code",
   "execution_count": null,
   "metadata": {},
   "outputs": [],
   "source": []
  }
 ],
 "metadata": {
  "kernelspec": {
   "display_name": "Python 3",
   "language": "python",
   "name": "python3"
  },
  "language_info": {
   "codemirror_mode": {
    "name": "ipython",
    "version": 3
   },
   "file_extension": ".py",
   "mimetype": "text/x-python",
   "name": "python",
   "nbconvert_exporter": "python",
   "pygments_lexer": "ipython3",
   "version": "3.7.7"
  }
 },
 "nbformat": 4,
 "nbformat_minor": 4
}
