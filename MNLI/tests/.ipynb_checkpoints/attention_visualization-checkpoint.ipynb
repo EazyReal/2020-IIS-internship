{
 "cells": [
  {
   "cell_type": "markdown",
   "metadata": {},
   "source": [
    "# Attention Visualization WorkSpace\n",
    "-  usage\n",
    "```python\n",
    "vis = AttentionVisualizer(model=model, reader=reader)\n",
    "vis.visualize_instance(devset[0], serialization_dir=\"./data/pictures/att\")\n",
    "```"
   ]
  },
  {
   "cell_type": "markdown",
   "metadata": {},
   "source": [
    "# Loading Dependencies"
   ]
  },
  {
   "cell_type": "code",
   "execution_count": 1,
   "metadata": {},
   "outputs": [],
   "source": [
    "%load_ext autoreload\n",
    "%autoreload 2"
   ]
  },
  {
   "cell_type": "code",
   "execution_count": 2,
   "metadata": {},
   "outputs": [],
   "source": [
    "import os, sys\n",
    "sys.path.append(os.path.abspath(\"..\"))"
   ]
  },
  {
   "cell_type": "code",
   "execution_count": 3,
   "metadata": {},
   "outputs": [],
   "source": [
    "import logging"
   ]
  },
  {
   "cell_type": "code",
   "execution_count": 4,
   "metadata": {},
   "outputs": [],
   "source": [
    "from src.interpret import (\n",
    "    show_sequence_attention,\n",
    "    show_matrix_attention\n",
    ")\n",
    "from src.models import SynNLIModel\n",
    "from src.data_git.reader import NLIGraphReader"
   ]
  },
  {
   "cell_type": "code",
   "execution_count": 5,
   "metadata": {},
   "outputs": [],
   "source": [
    "from allennlp.common import Params\n",
    "from allennlp.common import Registrable\n",
    "from allennlp.models import Model\n",
    "from allennlp.data import Vocabulary, PyTorchDataLoader, Instance"
   ]
  },
  {
   "cell_type": "code",
   "execution_count": 6,
   "metadata": {},
   "outputs": [],
   "source": [
    "import stanza"
   ]
  },
  {
   "cell_type": "markdown",
   "metadata": {},
   "source": [
    "# Load Model Here"
   ]
  },
  {
   "cell_type": "code",
   "execution_count": 7,
   "metadata": {},
   "outputs": [],
   "source": [
    "#serialization_dir = \"../param/GEN_BERT_300d_MNLI/\"\n",
    "serialization_dir = \"../param/GMN_BERT_300d_/\""
   ]
  },
  {
   "cell_type": "code",
   "execution_count": 8,
   "metadata": {},
   "outputs": [],
   "source": [
    "config_param = Params.from_file(serialization_dir+\"config.json\")"
   ]
  },
  {
   "cell_type": "code",
   "execution_count": 9,
   "metadata": {},
   "outputs": [],
   "source": [
    "lm = Model.load(\n",
    "    config = config_param,\n",
    "    serialization_dir = serialization_dir,\n",
    "    weights_file = None, # use best by default\n",
    "    cuda_device = -1\n",
    ") "
   ]
  },
  {
   "cell_type": "markdown",
   "metadata": {},
   "source": [
    "# Load Data Here"
   ]
  },
  {
   "cell_type": "code",
   "execution_count": 10,
   "metadata": {},
   "outputs": [
    {
     "data": {
      "text/plain": [
       "'../data/hans_preprocessed/dev.jsonl'"
      ]
     },
     "execution_count": 10,
     "metadata": {},
     "output_type": "execute_result"
    }
   ],
   "source": [
    "data_dir = \"../data/hans_preprocessed/\"\n",
    "data_file = \"dev.jsonl\"\n",
    "data_path = data_dir + data_file\n",
    "data_path"
   ]
  },
  {
   "cell_type": "code",
   "execution_count": 11,
   "metadata": {},
   "outputs": [],
   "source": [
    "input_parsed = True\n",
    "\n",
    "if not input_parsed:\n",
    "    nlp = stanza.Pipeline(lang='en', processors='tokenize,mwt,pos,lemma,depparse')\n",
    "    rdr = NLIGraphReader(\n",
    "            wordpiece_tokenizer = None,\n",
    "            token_indexers = None,\n",
    "            combine_input_fields = None,\n",
    "            input_parsed  = False,\n",
    "            parser = nlp,\n",
    "            input_fields = None,\n",
    "            max_instances=100,\n",
    "    )\n",
    "else:\n",
    "    rdr = NLIGraphReader(\n",
    "            wordpiece_tokenizer = None,\n",
    "            token_indexers = None,\n",
    "            combine_input_fields = None,\n",
    "            input_parsed  = True,\n",
    "            parser = None,\n",
    "            input_fields = None,\n",
    "            max_instances=100,\n",
    "    )"
   ]
  },
  {
   "cell_type": "code",
   "execution_count": 12,
   "metadata": {},
   "outputs": [
    {
     "data": {
      "application/vnd.jupyter.widget-view+json": {
       "model_id": "414e01be8bf14de59972709b45305518",
       "version_major": 2,
       "version_minor": 0
      },
      "text/plain": [
       "HBox(children=(FloatProgress(value=1.0, bar_style='info', description='reading instances', max=1.0, style=Prog…"
      ]
     },
     "metadata": {},
     "output_type": "display_data"
    },
    {
     "name": "stderr",
     "output_type": "stream",
     "text": [
      "\n"
     ]
    }
   ],
   "source": [
    "devset = rdr.read(data_path)"
   ]
  },
  {
   "cell_type": "code",
   "execution_count": 13,
   "metadata": {},
   "outputs": [
    {
     "data": {
      "application/vnd.jupyter.widget-view+json": {
       "model_id": "e3cd16464f0b4277b938f8121dd7985f",
       "version_major": 2,
       "version_minor": 0
      },
      "text/plain": [
       "HBox(children=(FloatProgress(value=0.0, description='building vocab', style=ProgressStyle(description_width='i…"
      ]
     },
     "metadata": {},
     "output_type": "display_data"
    },
    {
     "name": "stderr",
     "output_type": "stream",
     "text": [
      "\n"
     ]
    }
   ],
   "source": [
    "vocab = Vocabulary.from_instances(\n",
    "    devset,\n",
    "    min_count={\"edge_labels\":500},\n",
    "    max_vocab_size={\"edge_labels\":20},\n",
    "    non_padded_namespaces= [\"*tags\", \"labels\"]\n",
    ")"
   ]
  },
  {
   "cell_type": "code",
   "execution_count": 14,
   "metadata": {},
   "outputs": [],
   "source": [
    "devset.index_with(vocab)"
   ]
  },
  {
   "cell_type": "code",
   "execution_count": 15,
   "metadata": {},
   "outputs": [
    {
     "data": {
      "text/plain": [
       "[$, The, president, advised, the, doctor, .]"
      ]
     },
     "execution_count": 15,
     "metadata": {},
     "output_type": "execute_result"
    }
   ],
   "source": [
    "devset[0].fields[\"tokens_p\"].tokens"
   ]
  },
  {
   "cell_type": "code",
   "execution_count": 16,
   "metadata": {},
   "outputs": [],
   "source": [
    "loader = PyTorchDataLoader(devset, batch_size=2)"
   ]
  },
  {
   "cell_type": "code",
   "execution_count": 17,
   "metadata": {},
   "outputs": [],
   "source": [
    "batch = next(iter(loader))"
   ]
  },
  {
   "cell_type": "code",
   "execution_count": 18,
   "metadata": {},
   "outputs": [],
   "source": [
    "# where should this function be?\n",
    "def instance2json(instance: Instance):\n",
    "    text_p = [token.text for token in  instance.fields[\"tokens_p\"].tokens]\n",
    "    text_h = [token.text for token in  instance.fields[\"tokens_h\"].tokens]\n",
    "    gold_label = instance.fields[\"label\"].label\n",
    "    return {\n",
    "        \"sentence1\" : text_p,\n",
    "        \"sentence2\" : text_h,\n",
    "        \"gold_label\" : gold_label,\n",
    "    }"
   ]
  },
  {
   "cell_type": "code",
   "execution_count": 19,
   "metadata": {},
   "outputs": [
    {
     "data": {
      "text/plain": [
       "{'sentence1': ['$', 'The', 'president', 'advised', 'the', 'doctor', '.'],\n",
       " 'sentence2': ['$', 'The', 'doctor', 'advised', 'the', 'president', '.'],\n",
       " 'gold_label': 'non-entailment'}"
      ]
     },
     "execution_count": 19,
     "metadata": {},
     "output_type": "execute_result"
    }
   ],
   "source": [
    "instance2json(devset[0])"
   ]
  },
  {
   "cell_type": "code",
   "execution_count": 70,
   "metadata": {},
   "outputs": [],
   "source": [
    "from allennlp.data import Batch, Instance, DatasetReader\n",
    "from allennlp.common import Registrable\n",
    "from allennlp.models import Model\n",
    "from src.interpret import (\n",
    "    show_matrix_attention,\n",
    "    show_sequence_attention,\n",
    ")\n",
    "from src.data_git.utils import (\n",
    "    text2graph,\n",
    "    draw\n",
    ")\n",
    "\n",
    "def instance2json(instance: Instance):\n",
    "    text_p = [token.text for token in  instance.fields[\"tokens_p\"].tokens]\n",
    "    text_h = [token.text for token in  instance.fields[\"tokens_h\"].tokens]\n",
    "    gold_label = instance.fields[\"label\"].label\n",
    "    return {\n",
    "        \"sentence1\" : text_p,\n",
    "        \"sentence2\" : text_h,\n",
    "        \"gold_label\" : gold_label,\n",
    "    }\n",
    "\n",
    "class AttentionVisualizer(Registrable):\n",
    "    \"\"\"\n",
    "    visualizer functions\n",
    "    this tool can be used for error analysis\n",
    "    \"\"\"\n",
    "    # init \n",
    "    def __init__(self, model: Model, reader: DatasetReader):\n",
    "        self._model = model\n",
    "        self._reader = reader\n",
    "        return\n",
    "    \n",
    "    # prob\n",
    "    # require reader with nlp and model with vocabulary\n",
    "    def visualize_json(self, json_dict):\n",
    "        instance = self._reader.text_to_instance(\n",
    "            premise =  json_dict[\"sentence1\"],\n",
    "            hypothesis = json_dict[\"sentence2\"],\n",
    "            gold_label = json_dict[\"gold_label\"] if \"gold_label\" in json_dict.keys() else None,\n",
    "        )\n",
    "        instance.index_fields(self._model.vocab)\n",
    "        self.visualize_instance(instance)\n",
    "        return\n",
    "        \n",
    "    \n",
    "    # visualize\n",
    "    def visualize_instance(self, instance: Instance):\n",
    "        logger = logging.getLogger(__name__)\n",
    "        # get tokens from instance\n",
    "        json_dict = instance2json(instance)\n",
    "        tokens_p = json_dict[\"sentence1\" ]\n",
    "        tokens_h = json_dict[\"sentence2\" ]\n",
    "        gold_label = json_dict[\"gold_label\"]\n",
    "        # get predictions and attentions\n",
    "        batch = Batch([instance])\n",
    "        batch_tensor = batch.as_tensor_dict()\n",
    "        #print(batch.as_tensor_dict())\n",
    "        ret = self._model.forward(**batch_tensor, return_attention=True)\n",
    "        ret = self._model.make_output_human_readable(ret)\n",
    "        pooler_p = ret[\"attentions\"][\"pooler1\"][0]\n",
    "        pooler_h = ret[\"attentions\"][\"pooler2\"][0]\n",
    "        logger.setLevel(logging.DEBUG)\n",
    "        logger.info(f\"tokens_p are {tokens_p}\")\n",
    "        logger.info(f\"tokens_h are {tokens_h}\")\n",
    "        logger.info(f\"the predicted label is {ret['predicted_label']}\")\n",
    "        logger.info(f\"the gold label is {gold_label}\")\n",
    "        # hope to show_sequence_attention(strlist, att, msg=None)\n",
    "        show_sequence_attention(tokens_p, pooler_p)\n",
    "        show_sequence_attention(tokens_h, pooler_h)\n",
    "        return\n",
    "            \n",
    "    \n",
    "    def visualize_batch_and_save():\n",
    "        pass"
   ]
  },
  {
   "cell_type": "code",
   "execution_count": 56,
   "metadata": {},
   "outputs": [],
   "source": [
    "vis = AttentionVisualizer(model = lm, reader = rdr)"
   ]
  },
  {
   "cell_type": "code",
   "execution_count": 47,
   "metadata": {},
   "outputs": [],
   "source": [
    "del vis"
   ]
  },
  {
   "cell_type": "code",
   "execution_count": 76,
   "metadata": {},
   "outputs": [
    {
     "name": "stderr",
     "output_type": "stream",
     "text": [
      "2020-09-05 22:21:32 INFO: tokens_p are ['$', 'The', 'presidents', 'encouraged', 'the', 'banker', '.']\n",
      "2020-09-05 22:21:32 INFO: tokens_h are ['$', 'The', 'banker', 'encouraged', 'the', 'presidents', '.']\n",
      "2020-09-05 22:21:32 INFO: the predicted label is ['entailment']\n",
      "2020-09-05 22:21:32 INFO: the gold label is non-entailment\n"
     ]
    },
    {
     "data": {
      "image/png": "[encoded data removed]",
      "text/plain": [
       "<Figure size 432x288 with 2 Axes>"
      ]
     },
     "metadata": {
      "needs_background": "light"
     },
     "output_type": "display_data"
    },
    {
     "data": {
      "image/png": "[encoded data removed]",
      "text/plain": [
       "<Figure size 432x288 with 2 Axes>"
      ]
     },
     "metadata": {
      "needs_background": "light"
     },
     "output_type": "display_data"
    }
   ],
   "source": [
    "vis.visualize_instance(devset[2])"
   ]
  },
  {
   "cell_type": "code",
   "execution_count": 58,
   "metadata": {},
   "outputs": [],
   "source": [
    "ed = devset[0].fields[\"g_p\"].edge_indices\n",
    "nodes = instance2json(devset[0])[\"sentence1\"]"
   ]
  },
  {
   "cell_type": "code",
   "execution_count": 59,
   "metadata": {},
   "outputs": [],
   "source": [
    "import networkx as nx\n",
    "from torch_geometric.data import Data\n",
    "from torch_geometric.utils import to_networkx\n",
    "\n",
    "ed = devset[0].fields[\"g_p\"].edge_indices\n",
    "et = devset[0].fields[\"g_p\"].labels\n",
    "nodes = instance2json(devset[0])[\"sentence1\"]\n",
    "G = Data(edge_index=ed, node_attr=nodes, edge_attr=et, num_nodes=len(nodes))"
   ]
  },
  {
   "cell_type": "code",
   "execution_count": 60,
   "metadata": {},
   "outputs": [
    {
     "name": "stdout",
     "output_type": "stream",
     "text": [
      "[0, 1, 2, 3, 4, 5, 6]\n",
      "[(0, 3), (1, 2), (2, 1), (2, 3), (3, 2), (3, 0), (3, 5), (3, 6), (4, 5), (5, 4), (5, 3), (6, 3)]\n"
     ]
    },
    {
     "data": {
      "image/png": "[encoded data removed]",
      "text/plain": [
       "<Figure size 432x288 with 1 Axes>"
      ]
     },
     "metadata": {},
     "output_type": "display_data"
    }
   ],
   "source": [
    "draw(G)"
   ]
  },
  {
   "cell_type": "markdown",
   "metadata": {},
   "source": [
    "# Probing Here"
   ]
  },
  {
   "cell_type": "code",
   "execution_count": 61,
   "metadata": {},
   "outputs": [
    {
     "name": "stderr",
     "output_type": "stream",
     "text": [
      "2020-09-05 22:16:03 WARNING: Can not find mwt: default from official model list. Ignoring it.\n",
      "2020-09-05 22:16:03 INFO: Loading these models for language: en (English):\n",
      "=======================\n",
      "| Processor | Package |\n",
      "-----------------------\n",
      "| tokenize  | ewt     |\n",
      "| pos       | ewt     |\n",
      "| lemma     | ewt     |\n",
      "| depparse  | ewt     |\n",
      "=======================\n",
      "\n",
      "2020-09-05 22:16:03 INFO: Use device: gpu\n",
      "2020-09-05 22:16:03 INFO: Loading: tokenize\n",
      "2020-09-05 22:16:03 INFO: Loading: pos\n",
      "2020-09-05 22:16:05 INFO: Loading: lemma\n",
      "2020-09-05 22:16:05 INFO: Loading: depparse\n",
      "2020-09-05 22:16:06 INFO: Done loading processors!\n"
     ]
    }
   ],
   "source": [
    "# load nlp\n",
    "from src.data_git.reader import NLIGraphReader\n",
    "nlp = stanza.Pipeline(lang='en', processors='tokenize,mwt,pos,lemma,depparse')\n",
    "rdr_nlp = NLIGraphReader(\n",
    "        wordpiece_tokenizer = None,\n",
    "        token_indexers = None,\n",
    "        combine_input_fields = None,\n",
    "        input_parsed  = False,\n",
    "        parser = nlp,\n",
    "        input_fields = None,\n",
    ")"
   ]
  },
  {
   "cell_type": "code",
   "execution_count": 73,
   "metadata": {},
   "outputs": [],
   "source": [
    "probe_json = {\n",
    "    \"sentence1\": \"Allen is smart.\",\n",
    "    \"sentence2\" : \"Allen is stupid.\",\n",
    "    \"gold_label\": \"contradiction\",\n",
    "}"
   ]
  },
  {
   "cell_type": "code",
   "execution_count": 74,
   "metadata": {},
   "outputs": [],
   "source": [
    "vis_probe = AttentionVisualizer(model=lm, reader = rdr_nlp)"
   ]
  },
  {
   "cell_type": "code",
   "execution_count": 75,
   "metadata": {},
   "outputs": [
    {
     "name": "stderr",
     "output_type": "stream",
     "text": [
      "2020-09-05 22:20:20 INFO: tokens_p are ['$', 'Allen', 'is', 'smart', '.']\n",
      "2020-09-05 22:20:20 INFO: tokens_h are ['$', 'Allen', 'is', 'stupid', '.']\n",
      "2020-09-05 22:20:20 INFO: the predicted label is ['contradiction']\n",
      "2020-09-05 22:20:20 INFO: the gold label is contradiction\n"
     ]
    },
    {
     "data": {
      "image/png": "[encoded data removed]",
      "text/plain": [
       "<Figure size 432x288 with 2 Axes>"
      ]
     },
     "metadata": {
      "needs_background": "light"
     },
     "output_type": "display_data"
    },
    {
     "data": {
      "image/png": "[encoded data removed]",
      "text/plain": [
       "<Figure size 432x288 with 2 Axes>"
      ]
     },
     "metadata": {
      "needs_background": "light"
     },
     "output_type": "display_data"
    }
   ],
   "source": [
    "vis_probe.visualize_json(probe_json)"
   ]
  },
  {
   "cell_type": "code",
   "execution_count": null,
   "metadata": {},
   "outputs": [],
   "source": []
  },
  {
   "cell_type": "code",
   "execution_count": null,
   "metadata": {},
   "outputs": [],
   "source": []
  }
 ],
 "metadata": {
  "kernelspec": {
   "display_name": "Python 3",
   "language": "python",
   "name": "python3"
  },
  "language_info": {
   "codemirror_mode": {
    "name": "ipython",
    "version": 3
   },
   "file_extension": ".py",
   "mimetype": "text/x-python",
   "name": "python",
   "nbconvert_exporter": "python",
   "pygments_lexer": "ipython3",
   "version": "3.7.7"
  }
 },
 "nbformat": 4,
 "nbformat_minor": 4
}
