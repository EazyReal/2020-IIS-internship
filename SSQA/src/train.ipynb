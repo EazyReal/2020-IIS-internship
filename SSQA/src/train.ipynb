{
 "cells": [
  {
   "cell_type": "code",
   "execution_count": 79,
   "metadata": {},
   "outputs": [
    {
     "name": "stdout",
     "output_type": "stream",
     "text": [
      "The autoreload extension is already loaded. To reload it, use:\n",
      "  %reload_ext autoreload\n"
     ]
    }
   ],
   "source": [
    "%load_ext autoreload\n",
    "%autoreload 2"
   ]
  },
  {
   "cell_type": "code",
   "execution_count": 80,
   "metadata": {},
   "outputs": [],
   "source": [
    "from tqdm import tqdm_notebook as tqdm\n",
    "from transformers.optimization import AdamW, get_linear_schedule_with_warmup\n",
    "import os\n",
    "from collections import defaultdict\n",
    "\n",
    "from dataset import * \n",
    "from model import * \n",
    "import config as config"
   ]
  },
  {
   "cell_type": "markdown",
   "metadata": {},
   "source": [
    "# Hyper Param (Train)"
   ]
  },
  {
   "cell_type": "code",
   "execution_count": 3,
   "metadata": {},
   "outputs": [
    {
     "name": "stdout",
     "output_type": "stream",
     "text": [
      "cuda\n"
     ]
    }
   ],
   "source": [
    "TEST = True\n",
    "LOG = True\n",
    "\n",
    "device = 'cuda' if torch.cuda.is_available() else 'cpu'\n",
    "if TEST:\n",
    "    print(device)\n",
    "\n",
    "# (instance/batchsize)*epcho = # batch\n",
    "BATCH_SIZE = 8\n",
    "NUM_EPOCHS = 6\n",
    "LR = 0.00001 # 1e-5\n",
    "\n",
    "NUM_WARMUP = 100"
   ]
  },
  {
   "cell_type": "markdown",
   "metadata": {},
   "source": [
    "# Load Data using dataset.py"
   ]
  },
  {
   "cell_type": "code",
   "execution_count": 4,
   "metadata": {},
   "outputs": [],
   "source": [
    "train_set = FGC_Dataset(config.FGC_TRAIN, mode=\"train\")"
   ]
  },
  {
   "cell_type": "code",
   "execution_count": 5,
   "metadata": {},
   "outputs": [],
   "source": [
    "train_loader = DataLoader(train_set, batch_size=BATCH_SIZE, collate_fn=create_mini_batch)"
   ]
  },
  {
   "cell_type": "code",
   "execution_count": 6,
   "metadata": {},
   "outputs": [
    {
     "name": "stdout",
     "output_type": "stream",
     "text": [
      "1875\n",
      "31422\n",
      "tensor([15.7584,  1.0000])\n",
      "None\n"
     ]
    }
   ],
   "source": [
    "# calc pos weight for BCE\n",
    "total = 0\n",
    "true_cnt = 0\n",
    "for instance in train_set:\n",
    "    if(instance[-1] == True):\n",
    "        true_cnt += 1\n",
    "    total += 1\n",
    "print(true_cnt)\n",
    "print(total)\n",
    "# to increase the value of recall in the model's criterion\n",
    "pos_weight = print(torch.tensor([(total-true_cnt)/true_cnt, 1]))\n",
    "print(pos_weight)\n",
    "# no need to applied pos_weight = torch.tensor([total/true_cnt, total/(1-true_cnt)])?"
   ]
  },
  {
   "cell_type": "markdown",
   "metadata": {},
   "source": [
    "# Build and Train Model"
   ]
  },
  {
   "cell_type": "code",
   "execution_count": 7,
   "metadata": {},
   "outputs": [
    {
     "name": "stderr",
     "output_type": "stream",
     "text": [
      "I0708 03:12:56.016345 140679277590336 configuration_utils.py:264] loading configuration file https://s3.amazonaws.com/models.huggingface.co/bert/bert-base-chinese-config.json from cache at /root/.cache/torch/transformers/8a3b1cfe5da58286e12a0f5d7d182b8d6eca88c08e26c332ee3817548cf7e60a.f12a4f986e43d8b328f5b067a641064d67b91597567a06c7b122d1ca7dfd9741\n",
      "I0708 03:12:56.018933 140679277590336 configuration_utils.py:300] Model config BertConfig {\n",
      "  \"architectures\": [\n",
      "    \"BertForMaskedLM\"\n",
      "  ],\n",
      "  \"attention_probs_dropout_prob\": 0.1,\n",
      "  \"directionality\": \"bidi\",\n",
      "  \"gradient_checkpointing\": false,\n",
      "  \"hidden_act\": \"gelu\",\n",
      "  \"hidden_dropout_prob\": 0.1,\n",
      "  \"hidden_size\": 768,\n",
      "  \"initializer_range\": 0.02,\n",
      "  \"intermediate_size\": 3072,\n",
      "  \"layer_norm_eps\": 1e-12,\n",
      "  \"max_position_embeddings\": 512,\n",
      "  \"model_type\": \"bert\",\n",
      "  \"num_attention_heads\": 12,\n",
      "  \"num_hidden_layers\": 12,\n",
      "  \"pad_token_id\": 0,\n",
      "  \"pooler_fc_size\": 768,\n",
      "  \"pooler_num_attention_heads\": 12,\n",
      "  \"pooler_num_fc_layers\": 3,\n",
      "  \"pooler_size_per_head\": 128,\n",
      "  \"pooler_type\": \"first_token_transform\",\n",
      "  \"type_vocab_size\": 2,\n",
      "  \"vocab_size\": 21128\n",
      "}\n",
      "\n",
      "I0708 03:12:56.093951 140679277590336 modeling_utils.py:667] loading weights file https://cdn.huggingface.co/bert-base-chinese-pytorch_model.bin from cache at /root/.cache/torch/transformers/a75f2e45a9463e784dfe8c1d9672440d5fc1b091d5ab104e3c2d82e90ab1b222.929717ca66a3ba9eb9ec2f85973c6398c54c38a4faa464636a491d7a705f7eb6\n",
      "I0708 03:12:58.554845 140679277590336 modeling_utils.py:765] All model checkpoint weights were used when initializing BertModel.\n",
      "\n",
      "I0708 03:12:58.557297 140679277590336 modeling_utils.py:774] All the weights of BertModel were initialized from the model checkpoint at bert-base-chinese.\n",
      "If your task is similar to the task the model of the ckeckpoint was trained on, you can already use BertModel for predictions without further training.\n"
     ]
    }
   ],
   "source": [
    "bert_encoder = BertModel.from_pretrained(config.BERT_EMBEDDING)"
   ]
  },
  {
   "cell_type": "code",
   "execution_count": 8,
   "metadata": {},
   "outputs": [],
   "source": [
    "def calc_f1(pref, target):\n",
    "    TP += ((pred == 1) & (target == 1)).cpu().sum()\n",
    "    TN += ((pred == 0) & (target == 0)).cpu().sum()\n",
    "    FN += ((pred == 0) & (target == 1)).cpu().sum()\n",
    "    FP += ((pred == 1) & (target == 0)).cpu().sum()\n",
    "\n",
    "    precision = TP / (TP + FP)\n",
    "    recall = TP / (TP + FN)\n",
    "    F1 = 2 * recall * precision / (recall + precision)\n",
    "    acc = (TP + TN) / (TP + TN + FP + FN)\n",
    "    return precision, recall, F1, acc"
   ]
  },
  {
   "cell_type": "code",
   "execution_count": 60,
   "metadata": {},
   "outputs": [
    {
     "name": "stdout",
     "output_type": "stream",
     "text": [
      "model in cuda? True\n"
     ]
    }
   ],
   "source": [
    "model = BertSERModel(bert_encoder=bert_encoder, pos_weight=pos_weight)\n",
    "model.to(device) # means model = model.to(device)\n",
    "if LOG:\n",
    "    print(\"model in cuda?\", next(model.parameters()).is_cuda)\n",
    "#    from time import sleep\n",
    "#    sleep(0.25)"
   ]
  },
  {
   "cell_type": "code",
   "execution_count": null,
   "metadata": {},
   "outputs": [],
   "source": [
    "dev_set = FGC_Dataset(config.FGC_DEV)\n",
    "dev_loader = DataLoader(dev_set, batch_size=BATCH_SIZE, collate_fn=create_mini_batch)\n",
    "id2qid = dev_set.get_id2qid()"
   ]
  },
  {
   "cell_type": "code",
   "execution_count": 75,
   "metadata": {},
   "outputs": [],
   "source": [
    "def eval_model(model, dev_set, id2qid):\n",
    "    dev_loader = DataLoader(dev_set, batch_size=BATCH_SIZE, collate_fn=create_mini_batch)\n",
    "    pred = []\n",
    "    label = []\n",
    "    for batch_i, batch in enumerate(dev_loader):\n",
    "        #print(len(batch))\n",
    "        label.extend(batch[3].cpu()) # batch[3] is label\n",
    "        batch = [data.to(device) for data in batch]\n",
    "        pred_batch = model._predict(batch)\n",
    "        pred.extend(pred_batch)\n",
    "    #print(label)\n",
    "    #print(pred)\n",
    "    stat = defaultdict(list)\n",
    "    for idx in range(len(dev_set)):\n",
    "        qid = id2qid[idx]\n",
    "        state = label[idx].item()*2 + pred[idx]\n",
    "        stat[qid].append(state)\n",
    "        \n",
    "    stat2 = list()\n",
    "    sum_stat =  {\n",
    "            \"precision\" : 0.0,\n",
    "            \"recall\" : 0.0,\n",
    "            \"F1\" : 0.0,\n",
    "            \"accuracy\" : 0.0\n",
    "        }\n",
    "    \n",
    "    for k, v in stat.items():\n",
    "        TP = sum([1 if ins == 3 else 0 for ins in v])\n",
    "        TN = sum([1 if ins == 0 else 0 for ins in v])\n",
    "        FN = sum([1 if ins == 2 else 0 for ins in v])\n",
    "        FP = sum([1 if ins == 1 else 0 for ins in v])\n",
    "        \n",
    "        # print(TP, TN, FN, FP)\n",
    "        \n",
    "        precision = TP / (TP + FP) if TP+FP > 0 else 0.0\n",
    "        recall = TP / (TP + FN) if TP+FN > 0 else 0.0\n",
    "        f1 = 2 * recall * precision / (recall + precision) if  (recall + precision) > 0 else 0.0\n",
    "        acc = (TP + TN) / (TP + TN + FP + FN) if (TP + TN + FP + FN) > 0 else 0.0\n",
    "\n",
    "        cur = {\n",
    "            \"precision\" : precision,\n",
    "            \"recall\" : recall,\n",
    "            \"F1\" : f1,\n",
    "            \"accuracy\" : acc\n",
    "        }\n",
    "        stat2.append(cur)\n",
    "        for k in cur:\n",
    "            sum_stat[k] += cur[k]\n",
    "    \n",
    "    # each question weight the sum\n",
    "    # remain to do is get max if SE is all negetive\n",
    "    for k in sum_stat:\n",
    "        sum_stat[k] /= len(stat2)\n",
    "    \n",
    "    return stat2, sum_stat"
   ]
  },
  {
   "cell_type": "code",
   "execution_count": 76,
   "metadata": {},
   "outputs": [],
   "source": [
    "stat, avg_stat = eval_model(model, dev_set, id2qid)"
   ]
  },
  {
   "cell_type": "code",
   "execution_count": 61,
   "metadata": {},
   "outputs": [],
   "source": [
    "# saving directory\n",
    "model_file_path = \"baseline\"\n",
    "\n",
    "save_model_path = config.PARAM_PATH / model_file_path\n",
    "\n",
    "if not os.path.exists(save_model_path):\n",
    "    if LOG:\n",
    "        print(\"directory {} doesn't exist, creating...\".format(save_model_path))\n",
    "    os.mkdir(save_model_path)"
   ]
  },
  {
   "cell_type": "code",
   "execution_count": 62,
   "metadata": {},
   "outputs": [],
   "source": [
    "no_decay = ['bias', 'LayerNorm.bias', 'LayerNorm.weight']\n",
    "optimizer_grouped_parameters = [\n",
    "    {'params': [p for n, p in model.named_parameters() if not any(nd in n for nd in no_decay)], 'weight_decay': 0.01},\n",
    "    {'params': [p for n, p in model.named_parameters() if any(nd in n for nd in no_decay)], 'weight_decay': 0.0}\n",
    "]"
   ]
  },
  {
   "cell_type": "code",
   "execution_count": 63,
   "metadata": {},
   "outputs": [],
   "source": [
    "if train_set == None:\n",
    "    train_set = FGC_Dataset(config.FGC_TRAIN, mode=\"train\")\n",
    "# train_set[0][0]\n",
    "train_loader = DataLoader(train_set, batch_size=BATCH_SIZE, collate_fn=create_mini_batch)"
   ]
  },
  {
   "cell_type": "code",
   "execution_count": 64,
   "metadata": {},
   "outputs": [],
   "source": [
    "# optimizer\n",
    "optimizer = AdamW(optimizer_grouped_parameters, lr=LR)\n",
    "num_train_optimization_steps = len(train_loader) * NUM_EPOCHS\n",
    "scheduler = get_linear_schedule_with_warmup(optimizer,\n",
    "                                            num_warmup_steps=NUM_WARMUP,\n",
    "                                            num_training_steps=num_train_optimization_steps)"
   ]
  },
  {
   "cell_type": "code",
   "execution_count": 81,
   "metadata": {},
   "outputs": [],
   "source": [
    "# Check that input does not exist MAX_BERT_LEN\n",
    "for data in train_set:\n",
    "    # print(data[0])\n",
    "    assert(data[1].shape[0] <= config.BERT_MAX_INPUT_LEN)"
   ]
  },
  {
   "cell_type": "code",
   "execution_count": 87,
   "metadata": {},
   "outputs": [],
   "source": [
    "# model.__dict__"
   ]
  },
  {
   "cell_type": "code",
   "execution_count": 92,
   "metadata": {},
   "outputs": [
    {
     "name": "stdout",
     "output_type": "stream",
     "text": [
      "start training ... \n"
     ]
    },
    {
     "data": {
      "application/vnd.jupyter.widget-view+json": {
       "model_id": "0f0cb83306b7456183be7ff17689fefb",
       "version_major": 2,
       "version_minor": 0
      },
      "text/plain": [
       "HBox(children=(IntProgress(value=0, max=3928), HTML(value='')))"
      ]
     },
     "metadata": {},
     "output_type": "display_data"
    },
    {
     "name": "stdout",
     "output_type": "stream",
     "text": [
      "\n",
      "lr = 0.000005\n",
      "epoch 0 train_loss: 0.106\n",
      "epoch 0 eval_recall: 0.579 eval_f1: 0.473\n"
     ]
    },
    {
     "data": {
      "application/vnd.jupyter.widget-view+json": {
       "model_id": "8fc26c540e5345e8a5d0ce5392bb941b",
       "version_major": 2,
       "version_minor": 0
      },
      "text/plain": [
       "HBox(children=(IntProgress(value=0, max=3928), HTML(value='')))"
      ]
     },
     "metadata": {},
     "output_type": "display_data"
    },
    {
     "name": "stdout",
     "output_type": "stream",
     "text": [
      "\n",
      "lr = 0.000003\n",
      "epoch 1 train_loss: 0.079\n",
      "epoch 1 eval_recall: 0.612 eval_f1: 0.492\n"
     ]
    },
    {
     "data": {
      "application/vnd.jupyter.widget-view+json": {
       "model_id": "132bd64c58c141ee8be6041de0083c29",
       "version_major": 2,
       "version_minor": 0
      },
      "text/plain": [
       "HBox(children=(IntProgress(value=0, max=3928), HTML(value='')))"
      ]
     },
     "metadata": {},
     "output_type": "display_data"
    },
    {
     "name": "stdout",
     "output_type": "stream",
     "text": [
      "\n",
      "lr = 0.000002\n",
      "epoch 2 train_loss: 0.051\n",
      "epoch 2 eval_recall: 0.593 eval_f1: 0.495\n"
     ]
    },
    {
     "data": {
      "application/vnd.jupyter.widget-view+json": {
       "model_id": "51753e0056144a0c83e6395ee9ebeafe",
       "version_major": 2,
       "version_minor": 0
      },
      "text/plain": [
       "HBox(children=(IntProgress(value=0, max=3928), HTML(value='')))"
      ]
     },
     "metadata": {},
     "output_type": "display_data"
    },
    {
     "name": "stdout",
     "output_type": "stream",
     "text": [
      "\n",
      "lr = 0.000000\n",
      "epoch 3 train_loss: 0.038\n",
      "epoch 3 eval_recall: 0.526 eval_f1: 0.480\n"
     ]
    },
    {
     "data": {
      "application/vnd.jupyter.widget-view+json": {
       "model_id": "157428322d4842e9ae98c0ba15091ff3",
       "version_major": 2,
       "version_minor": 0
      },
      "text/plain": [
       "HBox(children=(IntProgress(value=0, max=3928), HTML(value='')))"
      ]
     },
     "metadata": {},
     "output_type": "display_data"
    },
    {
     "name": "stdout",
     "output_type": "stream",
     "text": [
      "\n",
      "lr = 0.000000\n",
      "epoch 4 train_loss: 0.027\n",
      "epoch 4 eval_recall: 0.533 eval_f1: 0.485\n"
     ]
    },
    {
     "data": {
      "application/vnd.jupyter.widget-view+json": {
       "model_id": "3b7448ab55b94ee4bf3e9063b5b03676",
       "version_major": 2,
       "version_minor": 0
      },
      "text/plain": [
       "HBox(children=(IntProgress(value=0, max=3928), HTML(value='')))"
      ]
     },
     "metadata": {},
     "output_type": "display_data"
    },
    {
     "name": "stdout",
     "output_type": "stream",
     "text": [
      "\n",
      "lr = 0.000000\n",
      "epoch 5 train_loss: 0.027\n",
      "epoch 5 eval_recall: 0.525 eval_f1: 0.475\n"
     ]
    }
   ],
   "source": [
    "model = BertSERModel(bert_encoder=bert_encoder, pos_weight=pos_weight)\n",
    "model.to(device) # means model = model.to(device)\n",
    "if LOG:\n",
    "    print(\"model in cuda?\", next(model.parameters()).is_cuda)\n",
    "#    from time import sleep\n",
    "#    sleep(0.25)\n",
    "\n",
    "print('start training ... ')\n",
    "\n",
    "stat = {\n",
    "    \"precision\" : [],\n",
    "    \"recall\" : [],\n",
    "    \"F1\" :[],\n",
    "    \"accuracy\" : []\n",
    "}\n",
    "\n",
    "for epoch_i in range(NUM_EPOCHS):\n",
    "    model.train()\n",
    "    running_loss = 0.0\n",
    "    for batch_i, batch in enumerate(tqdm(train_loader)):\n",
    "        optimizer.zero_grad()\n",
    "\n",
    "        batch = [data.to(device) for data in batch] # batch[0] = ids, batch[1] = ...\n",
    "        loss = model(batch)\n",
    "\n",
    "        loss.backward()\n",
    "        torch.nn.utils.clip_grad_norm_(model.parameters(), config.MAX_GRAD_NORM) \n",
    "        optimizer.step()\n",
    "        scheduler.step()\n",
    "        running_loss += loss.item()\n",
    "    learning_rate_scalar = scheduler.get_lr()[0]\n",
    "    print('lr = %f' % learning_rate_scalar)\n",
    "    print('epoch %d train_loss: %.3f' % (epoch_i, running_loss / len(train_loader)))\n",
    "    \n",
    "    eval_epoch_frequency = 1\n",
    "    if epoch_i % eval_epoch_frequency == 0:\n",
    "        ecopch_stat_by_questions, epoch_stat = eval_model(model, dev_set, id2qid)\n",
    "        for k in stat:\n",
    "            stat[k].append(epoch_stat[k])\n",
    "        print('epoch %d eval_recall: %.3f eval_f1: %.3f' % \n",
    "              (epoch_i, epoch_stat['recall'], epoch_stat['F1']))\n",
    "        model_to_save = model\n",
    "        torch.save(model_to_save.state_dict(),\n",
    "                    str(save_model_path / \"model_epoch{0}_precision:{1:.3f}_recall:{2:.3f}_f1:{3:.3f}_acc:{4:.3f}.m\".\n",
    "                           format(epoch_i, epoch_stat['precision'], epoch_stat['recall'], epoch_stat['F1'],\n",
    "                                  epoch_stat['accuracy'])))\n"
   ]
  },
  {
   "cell_type": "code",
   "execution_count": null,
   "metadata": {},
   "outputs": [],
   "source": [
    "# save model here"
   ]
  },
  {
   "cell_type": "code",
   "execution_count": null,
   "metadata": {},
   "outputs": [],
   "source": [
    "print(\"hi\")"
   ]
  },
  {
   "cell_type": "code",
   "execution_count": 91,
   "metadata": {},
   "outputs": [
    {
     "name": "stdout",
     "output_type": "stream",
     "text": [
      "epoch 0 eval_recall: 0.692 eval_f1: 0.494\n"
     ]
    }
   ],
   "source": [
    "eval_epoch_frequency = 1\n",
    "if epoch_i % eval_epoch_frequency == 0:\n",
    "    ecopch_stat_by_questions, epoch_stat = eval_model(model, dev_set, id2qid)\n",
    "    for k in stat:\n",
    "        stat[k].append(epoch_stat[k])\n",
    "    print('epoch %d eval_recall: %.3f eval_f1: %.3f' % \n",
    "          (epoch_i, epoch_stat['recall'], epoch_stat['F1']))\n",
    "    model_to_save = model\n",
    "    torch.save(model_to_save.state_dict(),\n",
    "                str(save_model_path / \"model_epoch{0}_precision:{1:.3f}_recall:{2:.3f}_f1:{3:.3f}_acc:{4:.3f}.m\".\n",
    "                       format(epoch_i, epoch_stat['precision'], epoch_stat['recall'], epoch_stat['F1'],\n",
    "                              epoch_stat['accuracy'])))"
   ]
  },
  {
   "cell_type": "code",
   "execution_count": null,
   "metadata": {},
   "outputs": [],
   "source": []
  },
  {
   "cell_type": "code",
   "execution_count": null,
   "metadata": {},
   "outputs": [],
   "source": []
  }
 ],
 "metadata": {
  "kernelspec": {
   "display_name": "Python 3",
   "language": "python",
   "name": "python3"
  },
  "language_info": {
   "codemirror_mode": {
    "name": "ipython",
    "version": 3
   },
   "file_extension": ".py",
   "mimetype": "text/x-python",
   "name": "python",
   "nbconvert_exporter": "python",
   "pygments_lexer": "ipython3",
   "version": "3.6.8"
  }
 },
 "nbformat": 4,
 "nbformat_minor": 4
}
